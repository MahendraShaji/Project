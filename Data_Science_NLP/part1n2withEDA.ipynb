{
 "cells": [
  {
   "cell_type": "markdown",
   "metadata": {},
   "source": [
    "## Project 4- by Mahendra Shaji Kurian\n",
    "\n",
    "### Using the csv file created through webscrapping for further analysis\n"
   ]
  },
  {
   "cell_type": "code",
   "execution_count": 1,
   "metadata": {},
   "outputs": [
    {
     "name": "stderr",
     "output_type": "stream",
     "text": [
      "/home/mahendra/anaconda2/envs/python3/lib/python3.6/site-packages/sklearn/cross_validation.py:44: DeprecationWarning: This module was deprecated in version 0.18 in favor of the model_selection module into which all the refactored classes and functions are moved. Also note that the interface of the new CV iterators are different from that of this module. This module will be removed in 0.20.\n",
      "  \"This module will be removed in 0.20.\", DeprecationWarning)\n",
      "/home/mahendra/anaconda2/envs/python3/lib/python3.6/site-packages/sklearn/grid_search.py:43: DeprecationWarning: This module was deprecated in version 0.18 in favor of the model_selection module into which all the refactored classes and functions are moved. This module will be removed in 0.20.\n",
      "  DeprecationWarning)\n"
     ]
    }
   ],
   "source": [
    "import numpy as np\n",
    "import scipy.stats as stats\n",
    "import seaborn as sns\n",
    "import matplotlib.pyplot as plt\n",
    "import pandas as pd\n",
    "from sklearn.model_selection import train_test_split\n",
    "from sklearn.feature_extraction.text import CountVectorizer\n",
    "from nltk.corpus import stopwords\n",
    "from sklearn.tree import DecisionTreeClassifier\n",
    "from sklearn.grid_search import GridSearchCV\n",
    "from sklearn.model_selection import GridSearchCV\n",
    "from sklearn.cross_validation import cross_val_score, cross_val_predict\n",
    "from sklearn import metrics\n",
    "from sklearn.preprocessing import StandardScaler\n",
    "from sklearn.linear_model import LogisticRegression\n",
    "from sklearn.linear_model import SGDRegressor, SGDClassifier\n",
    "from sklearn.preprocessing import StandardScaler\n",
    "\n",
    "\n",
    "sns.set_style('darkgrid')\n"
   ]
  },
  {
   "cell_type": "code",
   "execution_count": 2,
   "metadata": {
    "collapsed": true
   },
   "outputs": [],
   "source": [
    "# From the web scrapping using beautiful soup\n",
    "data = pd.read_csv('./Final_Post.csv')"
   ]
  },
  {
   "cell_type": "code",
   "execution_count": 3,
   "metadata": {},
   "outputs": [
    {
     "data": {
      "text/html": [
       "<div>\n",
       "<table border=\"1\" class=\"dataframe\">\n",
       "  <thead>\n",
       "    <tr style=\"text-align: right;\">\n",
       "      <th></th>\n",
       "      <th>keyword</th>\n",
       "      <th>pagenumber</th>\n",
       "      <th>title</th>\n",
       "      <th>location</th>\n",
       "      <th>region</th>\n",
       "      <th>salary</th>\n",
       "      <th>worktype</th>\n",
       "      <th>advertiser</th>\n",
       "      <th>classification</th>\n",
       "      <th>jd</th>\n",
       "      <th>url</th>\n",
       "    </tr>\n",
       "  </thead>\n",
       "  <tbody>\n",
       "    <tr>\n",
       "      <th>0</th>\n",
       "      <td>Data-Scientist</td>\n",
       "      <td>1</td>\n",
       "      <td>b'Data Scientist\\r\\n    '</td>\n",
       "      <td>b'Sydney'</td>\n",
       "      <td>CBD, Inner West &amp; Eastern Suburbs</td>\n",
       "      <td>NaN</td>\n",
       "      <td>b'Full Time'</td>\n",
       "      <td>NRMA Motoring &amp;amp; Services -</td>\n",
       "      <td>b'Marketing &amp;amp; Communications'</td>\n",
       "      <td>['\\n', &lt;p&gt;The NRMA was born to keep people mov...</td>\n",
       "      <td>https://www.seek.com.au/job/33406210?type=stan...</td>\n",
       "    </tr>\n",
       "    <tr>\n",
       "      <th>1</th>\n",
       "      <td>Data-Scientist</td>\n",
       "      <td>1</td>\n",
       "      <td>NaN</td>\n",
       "      <td>b'Sydney'</td>\n",
       "      <td>CBD, Inner West &amp; Eastern Suburbs</td>\n",
       "      <td>b'$700 - 900 per day'</td>\n",
       "      <td>b'Contract/Temp'</td>\n",
       "      <td>Opus Recruitment Solutions -</td>\n",
       "      <td>b'Science &amp;amp; Technology'</td>\n",
       "      <td>[&lt;strong&gt;DATA SCIENTIST - TOP 100 ASX COMPANY&lt;...</td>\n",
       "      <td>https://www.seek.com.au/job/33404974?type=stan...</td>\n",
       "    </tr>\n",
       "    <tr>\n",
       "      <th>2</th>\n",
       "      <td>Data-Scientist</td>\n",
       "      <td>1</td>\n",
       "      <td>b'Data Scientist\\r\\n    '</td>\n",
       "      <td>b'Sydney'</td>\n",
       "      <td>CBD, Inner West &amp; Eastern Suburbs</td>\n",
       "      <td>NaN</td>\n",
       "      <td>b'Full Time'</td>\n",
       "      <td>Caltex Australia -</td>\n",
       "      <td>b'Science &amp;amp; Technology'</td>\n",
       "      <td>['\\n', &lt;p&gt;At Caltex, we’re with you all the wa...</td>\n",
       "      <td>https://www.seek.com.au/job/33404052?type=stan...</td>\n",
       "    </tr>\n",
       "    <tr>\n",
       "      <th>3</th>\n",
       "      <td>Data-Scientist</td>\n",
       "      <td>1</td>\n",
       "      <td>b'Data Engineer/Scientist/Analytics Consultant...</td>\n",
       "      <td>b'Sydney'</td>\n",
       "      <td>CBD, Inner West &amp; Eastern Suburbs</td>\n",
       "      <td>b'Competitive and negotiable'</td>\n",
       "      <td>b'Full Time'</td>\n",
       "      <td>BI &amp;amp; DW Australia -</td>\n",
       "      <td>b'Information &amp;amp; Communication Technology'</td>\n",
       "      <td>[&lt;strong&gt;A leading IM Professional Services co...</td>\n",
       "      <td>https://www.seek.com.au/job/33394134?type=stan...</td>\n",
       "    </tr>\n",
       "    <tr>\n",
       "      <th>4</th>\n",
       "      <td>Data-Scientist</td>\n",
       "      <td>1</td>\n",
       "      <td>b'Sr. Data Scientist - Perm -Sydney\\r\\n    '</td>\n",
       "      <td>b'Sydney'</td>\n",
       "      <td>CBD, Inner West &amp; Eastern Suburbs</td>\n",
       "      <td>b'$150-$160K + Super'</td>\n",
       "      <td>b'Full Time'</td>\n",
       "      <td>Infopeople -</td>\n",
       "      <td>b'Science &amp;amp; Technology'</td>\n",
       "      <td>['My client is seeking an experienced Data Sci...</td>\n",
       "      <td>https://www.seek.com.au/job/33378604?type=stan...</td>\n",
       "    </tr>\n",
       "  </tbody>\n",
       "</table>\n",
       "</div>"
      ],
      "text/plain": [
       "          keyword  pagenumber  \\\n",
       "0  Data-Scientist           1   \n",
       "1  Data-Scientist           1   \n",
       "2  Data-Scientist           1   \n",
       "3  Data-Scientist           1   \n",
       "4  Data-Scientist           1   \n",
       "\n",
       "                                               title   location  \\\n",
       "0                          b'Data Scientist\\r\\n    '  b'Sydney'   \n",
       "1                                                NaN  b'Sydney'   \n",
       "2                          b'Data Scientist\\r\\n    '  b'Sydney'   \n",
       "3  b'Data Engineer/Scientist/Analytics Consultant...  b'Sydney'   \n",
       "4       b'Sr. Data Scientist - Perm -Sydney\\r\\n    '  b'Sydney'   \n",
       "\n",
       "                               region                         salary  \\\n",
       "0   CBD, Inner West & Eastern Suburbs                            NaN   \n",
       "1   CBD, Inner West & Eastern Suburbs          b'$700 - 900 per day'   \n",
       "2   CBD, Inner West & Eastern Suburbs                            NaN   \n",
       "3   CBD, Inner West & Eastern Suburbs  b'Competitive and negotiable'   \n",
       "4   CBD, Inner West & Eastern Suburbs          b'$150-$160K + Super'   \n",
       "\n",
       "           worktype                       advertiser  \\\n",
       "0      b'Full Time'  NRMA Motoring &amp; Services -    \n",
       "1  b'Contract/Temp'    Opus Recruitment Solutions -    \n",
       "2      b'Full Time'              Caltex Australia -    \n",
       "3      b'Full Time'         BI &amp; DW Australia -    \n",
       "4      b'Full Time'                    Infopeople -    \n",
       "\n",
       "                                  classification  \\\n",
       "0              b'Marketing &amp; Communications'   \n",
       "1                    b'Science &amp; Technology'   \n",
       "2                    b'Science &amp; Technology'   \n",
       "3  b'Information &amp; Communication Technology'   \n",
       "4                    b'Science &amp; Technology'   \n",
       "\n",
       "                                                  jd  \\\n",
       "0  ['\\n', <p>The NRMA was born to keep people mov...   \n",
       "1  [<strong>DATA SCIENTIST - TOP 100 ASX COMPANY<...   \n",
       "2  ['\\n', <p>At Caltex, we’re with you all the wa...   \n",
       "3  [<strong>A leading IM Professional Services co...   \n",
       "4  ['My client is seeking an experienced Data Sci...   \n",
       "\n",
       "                                                 url  \n",
       "0  https://www.seek.com.au/job/33406210?type=stan...  \n",
       "1  https://www.seek.com.au/job/33404974?type=stan...  \n",
       "2  https://www.seek.com.au/job/33404052?type=stan...  \n",
       "3  https://www.seek.com.au/job/33394134?type=stan...  \n",
       "4  https://www.seek.com.au/job/33378604?type=stan...  "
      ]
     },
     "execution_count": 3,
     "metadata": {},
     "output_type": "execute_result"
    }
   ],
   "source": [
    "data.head()"
   ]
  },
  {
   "cell_type": "code",
   "execution_count": 4,
   "metadata": {},
   "outputs": [
    {
     "data": {
      "text/plain": [
       "(1118, 11)"
      ]
     },
     "execution_count": 4,
     "metadata": {},
     "output_type": "execute_result"
    }
   ],
   "source": [
    "data.shape"
   ]
  },
  {
   "cell_type": "markdown",
   "metadata": {},
   "source": [
    "trying to clean up the data we have. and see what we can do."
   ]
  },
  {
   "cell_type": "markdown",
   "metadata": {},
   "source": [
    "data.isnull().sum()"
   ]
  },
  {
   "cell_type": "code",
   "execution_count": 5,
   "metadata": {
    "collapsed": true
   },
   "outputs": [],
   "source": [
    "data.salary.fillna(value=0, inplace=True)"
   ]
  },
  {
   "cell_type": "code",
   "execution_count": 6,
   "metadata": {
    "collapsed": true
   },
   "outputs": [],
   "source": [
    "data.title.fillna(value=data.keyword,axis=0, inplace=True)"
   ]
  },
  {
   "cell_type": "code",
   "execution_count": 7,
   "metadata": {
    "collapsed": true
   },
   "outputs": [],
   "source": [
    "data.region.fillna(value=\"NA\", inplace=True)"
   ]
  },
  {
   "cell_type": "code",
   "execution_count": 8,
   "metadata": {
    "collapsed": true
   },
   "outputs": [],
   "source": [
    "data.dropna(inplace=True)"
   ]
  },
  {
   "cell_type": "code",
   "execution_count": 9,
   "metadata": {},
   "outputs": [
    {
     "data": {
      "text/plain": [
       "keyword           0\n",
       "pagenumber        0\n",
       "title             0\n",
       "location          0\n",
       "region            0\n",
       "salary            0\n",
       "worktype          0\n",
       "advertiser        0\n",
       "classification    0\n",
       "jd                0\n",
       "url               0\n",
       "dtype: int64"
      ]
     },
     "execution_count": 9,
     "metadata": {},
     "output_type": "execute_result"
    }
   ],
   "source": [
    "data.isnull().sum()"
   ]
  },
  {
   "cell_type": "code",
   "execution_count": 10,
   "metadata": {},
   "outputs": [
    {
     "data": {
      "text/plain": [
       "(1107, 11)"
      ]
     },
     "execution_count": 10,
     "metadata": {},
     "output_type": "execute_result"
    }
   ],
   "source": [
    "data.shape"
   ]
  },
  {
   "cell_type": "code",
   "execution_count": 11,
   "metadata": {},
   "outputs": [
    {
     "data": {
      "text/plain": [
       "Business-Intelligence                                                                             66\n",
       "Data-Analyst                                                                                      34\n",
       "Data-Architect                                                                                    30\n",
       "Data-Scientist                                                                                    23\n",
       "b'Data Scientist\\r\\n      '                                                                       16\n",
       "b'Data Scientist\\r\\n    '                                                                         14\n",
       "b'Data Analyst\\r\\n      '                                                                         13\n",
       "b'Business Intelligence Analyst\\r\\n      '                                                         7\n",
       "b'Data Analyst\\r\\n    '                                                                            7\n",
       "b'GP Representatives - Melbourne New Roles! CBD, South East and Eastern Suburbs\\r\\n    '           5\n",
       "b'Senior Data Scientist\\r\\n    '                                                                   5\n",
       "b'SQL Developer\\r\\n      '                                                                         4\n",
       "b'MS Business Intelligence Consultant - MSBI\\r\\n      '                                            4\n",
       "b'Business Intelligence Developer\\r\\n    '                                                         4\n",
       "b'Analyst\\r\\n      '                                                                               4\n",
       "b'\\r\\n          Data Analyst\\r\\n        '                                                          4\n",
       "b'\\r\\n          Data Solution Architect\\r\\n        '                                               4\n",
       "b'\\r\\n          Business Intelligence Report Developer\\r\\n        '                                4\n",
       "b'Data Management Analyst\\r\\n    '                                                                 4\n",
       "b'Solution Architect with expertise in Secure API design &amp; Enterprise Integration\\r\\n    '     4\n",
       "b'Chief Information Officer\\r\\n    '                                                               4\n",
       "b'Senior Business Intelligence Analyst\\r\\n      '                                                  4\n",
       "b'Data Solutions Designer - Big Data\\r\\n    '                                                      3\n",
       "b'Lead Data Scientist\\r\\n      '                                                                   3\n",
       "b'Translational Data Scientist\\r\\n      '                                                          3\n",
       "b'Solution Architect\\r\\n      '                                                                    3\n",
       "b'Senior Analyst\\r\\n      '                                                                        3\n",
       "b'Data Modeller\\r\\n        '                                                                       3\n",
       "b'Senior Data Analyst\\r\\n      '                                                                   3\n",
       "b'Business Data Analyst\\r\\n    '                                                                   3\n",
       "                                                                                                  ..\n",
       "b'Consultant, Delivery (Accounting Operations T&amp;O)\\r\\n      '                                  1\n",
       "b'Consulting- CFO Data - Senior Consultant\\r\\n      '                                              1\n",
       "b'Data Scientist / Statistical Modeller\\r\\n      '                                                 1\n",
       "b'\\r\\n          BI Lead with Exp in BI/DWH, Datamodelling - Sydney location\\r\\n        '           1\n",
       "b'Lead Data Services Developer (SQL, SSIS, SSRS)\\r\\n      '                                        1\n",
       "b'Business Engagement Manager Corporate\\r\\n      '                                                 1\n",
       "b'Data Analyst - Digital Marketing Insights\\r\\n      '                                             1\n",
       "b'Analytics Lead- ERP Transformation\\r\\n      '                                                    1\n",
       "b'Head of Category Management\\r\\n      '                                                           1\n",
       "b'Hyperion Consultant\\r\\n      '                                                                   1\n",
       "b'Retail Business Intelligence Analyst - Esprit\\r\\n      '                                         1\n",
       "b'Data Manager\\r\\n    '                                                                            1\n",
       "b'\\r\\n          Senior Marketing / Data Analyst\\r\\n        '                                       1\n",
       "b'SAP Enterprise Architect \\r\\n    '                                                               1\n",
       "b'Senior Business Intelligence and Analytics Lead\\r\\n      '                                       1\n",
       "b'Business Analyst | Finance\\r\\n    '                                                              1\n",
       "b'Technical Architect\\r\\n    '                                                                     1\n",
       "b'Customer Data &amp; Reporting Analyst\\r\\n      '                                                 1\n",
       "b'Senior Business Analyst (Data)\\r\\n      '                                                        1\n",
       "b'Solution Designer \\xe2\\x80\\x93 Business Intelligence\\r\\n      '                                  1\n",
       "b'Test Lead - Education\\r\\n      '                                                                 1\n",
       "b'Agile Senior Business Analyst\\r\\n      '                                                         1\n",
       "b'Marketing Manager - Medical Devices\\r\\n      '                                                   1\n",
       "b'Dealer Principal - Berwick Hyundai\\r\\n    '                                                      1\n",
       "b'Information Management Consultants\\r\\n      '                                                    1\n",
       "b'Front- End Developer X 2\\r\\n      '                                                              1\n",
       "b'SAP Development Architect\\r\\n    '                                                               1\n",
       "b'Senior Data Scientist - Stats &amp; Insights\\r\\n      '                                          1\n",
       "b'ETL Developer | SSIS \\r\\n      '                                                                 1\n",
       "b'\\r\\n          Junior Support Analyst\\r\\n        '                                                1\n",
       "Name: title, dtype: int64"
      ]
     },
     "execution_count": 11,
     "metadata": {},
     "output_type": "execute_result"
    }
   ],
   "source": [
    "data.title.value_counts()"
   ]
  },
  {
   "cell_type": "code",
   "execution_count": 12,
   "metadata": {},
   "outputs": [
    {
     "data": {
      "text/plain": [
       "['  ', \"b'\", '\\\\r', '\\\\n', \"'\", '-', 'amp\\\\;']"
      ]
     },
     "execution_count": 12,
     "metadata": {},
     "output_type": "execute_result"
    }
   ],
   "source": [
    "eliminate=['  ','b\\'',\"\\\\r\",\"\\\\n\",'\\'','-','amp\\;']\n",
    "# data.title = data.title.map(lambda x: x.replace('b',''))\n",
    "eliminate"
   ]
  },
  {
   "cell_type": "code",
   "execution_count": 13,
   "metadata": {
    "collapsed": true
   },
   "outputs": [],
   "source": [
    "for ch in eliminate:\n",
    "    data.title = data.title.map(lambda x: x.replace(ch,''))"
   ]
  },
  {
   "cell_type": "code",
   "execution_count": 14,
   "metadata": {},
   "outputs": [
    {
     "data": {
      "text/plain": [
       "BusinessIntelligence                                                                   66\n",
       "DataAnalyst                                                                            34\n",
       "Data Scientist                                                                         33\n",
       "DataArchitect                                                                          30\n",
       "Data Analyst                                                                           26\n",
       "DataScientist                                                                          23\n",
       "Senior Data Scientist                                                                   7\n",
       "Business Intelligence Analyst                                                           7\n",
       "Senior Business Intelligence Analyst                                                    5\n",
       "Business Intelligence Developer                                                         5\n",
       "GP Representatives  Melbourne New Roles! CBD, South East and Eastern Suburbs            5\n",
       "Analyst                                                                                 5\n",
       "Business Analyst                                                                        5\n",
       "Solution Architect                                                                      5\n",
       "Business Intelligence Report Developer                                                  4\n",
       "Solution Architect with expertise in Secure API design &amp; Enterprise Integration     4\n",
       "Business Intelligence Specialist                                                        4\n",
       "MS Business Intelligence Consultant  MSBI                                               4\n",
       "Qlikview Developer                                                                      4\n",
       "Data Solution Architect                                                                 4\n",
       "Senior Data Analyst                                                                     4\n",
       "SQL Developer                                                                           4\n",
       "Chief Information Officer                                                               4\n",
       "Data Management Analyst                                                                 4\n",
       "Business Data Analyst                                                                   4\n",
       "Manager, eFulfilment Service Delivery                                                   3\n",
       "ICT Security Specialist                                                                 3\n",
       "Junior  Mid Level Software Engineer                                                     3\n",
       "Junior SQL Data Analyst                                                                 3\n",
       "Data Solutions Designer  Big Data                                                       3\n",
       "                                                                                       ..\n",
       "Cloud Applications Solutions Architect                                                  1\n",
       "Lead Data Services Developer (SQL, SSIS, SSRS)                                          1\n",
       "Technology Engagement Manager                                                           1\n",
       "Solution Designer                                                                       1\n",
       "NAV DEVELOPER / TECHNICAL CONSULTANT                                                    1\n",
       "Solution Architect | Big Data Engineering | Strategic role |                            1\n",
       "Technical Business/Data Analyst                                                         1\n",
       "Team Leader Customer Experience                                                         1\n",
       "Scientist                                                                               1\n",
       "Senior Microsoft BI Consultant                                                          1\n",
       "Marketing Manager  Medical Devices                                                      1\n",
       "Microsoft Dynamics (CRM) and/or Microsoft SQL Contract Trainers                         1\n",
       "Agile Data Visualisation Developer                                                      1\n",
       "Technology Engagement ManagerProperty                                                   1\n",
       "Commercial Analyst  FP&amp;A                                                            1\n",
       "Senior Data Governance and Reporting Analyst                                            1\n",
       "Demand Analysis Manager Rail                                                            1\n",
       "Mid Lvl Business Intelligence Developer/Analyst, OBIEE. BI/DW, Contract, Sydney         1\n",
       "Performance &amp; Innovation Lead                                                       1\n",
       "Analyst Programmer Support                                                              1\n",
       "Enterprise Architect  Applications                                                      1\n",
       "Analytics Lead ERP Transformation                                                       1\n",
       "SAP Enterprise Architect (Permanent)                                                    1\n",
       "Recruitment Consultant  IT&amp;T.                                                       1\n",
       "Senior Analyst \\xe2\\x80\\x93 Analytics/Data/Programming                                  1\n",
       "Software Developer  C/C++                                                               1\n",
       "Business Intelligence Developer  SSRS / SSIS                                            1\n",
       "Data Analyst  Digital Marketing Insights                                                1\n",
       "Head of Product  Global Delivery Pod                                                    1\n",
       "Junior Data Scientist (Modelling, Insights &amp; Data Science)                          1\n",
       "Name: title, dtype: int64"
      ]
     },
     "execution_count": 14,
     "metadata": {},
     "output_type": "execute_result"
    }
   ],
   "source": [
    "data.title.value_counts()"
   ]
  },
  {
   "cell_type": "code",
   "execution_count": 15,
   "metadata": {},
   "outputs": [
    {
     "data": {
      "text/plain": [
       "b'Sydney'       664\n",
       "b'Melbourne'    340\n",
       "b'Brisbane'     103\n",
       "Name: location, dtype: int64"
      ]
     },
     "execution_count": 15,
     "metadata": {},
     "output_type": "execute_result"
    }
   ],
   "source": [
    "data.location.value_counts()"
   ]
  },
  {
   "cell_type": "code",
   "execution_count": 16,
   "metadata": {
    "collapsed": true
   },
   "outputs": [],
   "source": [
    "data.location = data.location.map(lambda x: x.replace('b\\'','').replace('\\'',''))"
   ]
  },
  {
   "cell_type": "code",
   "execution_count": 17,
   "metadata": {},
   "outputs": [
    {
     "data": {
      "text/plain": [
       "Sydney       664\n",
       "Melbourne    340\n",
       "Brisbane     103\n",
       "Name: location, dtype: int64"
      ]
     },
     "execution_count": 17,
     "metadata": {},
     "output_type": "execute_result"
    }
   ],
   "source": [
    "data.location.value_counts()"
   ]
  },
  {
   "cell_type": "code",
   "execution_count": 18,
   "metadata": {},
   "outputs": [
    {
     "data": {
      "text/plain": [
       " CBD, Inner West & Eastern Suburbs      466\n",
       " CBD & Inner Suburbs                    322\n",
       "NA                                      143\n",
       " North Shore & Northern Beaches          42\n",
       " Parramatta & Western Suburbs            33\n",
       " Ryde & Macquarie Park                   25\n",
       " Northern Suburbs                        13\n",
       " Bayside & South Eastern Suburbs         12\n",
       " Eastern Suburbs                         12\n",
       " North West & Hills District             11\n",
       " Western Suburbs                          8\n",
       " Bayside & Eastern Suburbs                6\n",
       " South West & M5 Corridor                 5\n",
       " Southern Suburbs & Sutherland Shire      5\n",
       " Southern Suburbs & Logan                 4\n",
       "Name: region, dtype: int64"
      ]
     },
     "execution_count": 18,
     "metadata": {},
     "output_type": "execute_result"
    }
   ],
   "source": [
    "data.region.value_counts()"
   ]
  },
  {
   "cell_type": "code",
   "execution_count": 19,
   "metadata": {},
   "outputs": [
    {
     "data": {
      "text/plain": [
       "b'Full Time'        773\n",
       "b'Contract/Temp'    329\n",
       "b'Part Time'          5\n",
       "Name: worktype, dtype: int64"
      ]
     },
     "execution_count": 19,
     "metadata": {},
     "output_type": "execute_result"
    }
   ],
   "source": [
    "data.worktype.value_counts()"
   ]
  },
  {
   "cell_type": "code",
   "execution_count": 20,
   "metadata": {
    "collapsed": true
   },
   "outputs": [],
   "source": [
    "data.worktype = data.worktype.map(lambda x: x.replace('b\\'','').replace('\\'',''))"
   ]
  },
  {
   "cell_type": "code",
   "execution_count": 21,
   "metadata": {},
   "outputs": [
    {
     "data": {
      "text/plain": [
       "Full Time        773\n",
       "Contract/Temp    329\n",
       "Part Time          5\n",
       "Name: worktype, dtype: int64"
      ]
     },
     "execution_count": 21,
     "metadata": {},
     "output_type": "execute_result"
    }
   ],
   "source": [
    "data.worktype.value_counts()"
   ]
  },
  {
   "cell_type": "code",
   "execution_count": 22,
   "metadata": {},
   "outputs": [
    {
     "data": {
      "text/plain": [
       "Private Advertiser -                                                                         24\n",
       "FIRESOFT Consulting -                                                                        22\n",
       "Hudson -                                                                                     20\n",
       "Infinity Pro -                                                                               17\n",
       "Peoplebank Australia NSW -                                                                   17\n",
       "Talent â Winner âSeek Large Recruitment Agency of the Yearâ 3 consecutive years! -     16\n",
       "Perigon Group Pty Limited -                                                                  15\n",
       "Paxus Australia Pty Ltd -                                                                    15\n",
       "Robert Walters -                                                                             15\n",
       "PBI Search -                                                                                 13\n",
       "FourQuarters Recruitment -                                                                   12\n",
       "Commonwealth Bank -                                                                          11\n",
       "Ethos BeathChapman -                                                                         11\n",
       "GMT People -                                                                                 11\n",
       "T+O+M Executive -                                                                            11\n",
       "Programmed Professionals Pty Ltd -                                                           11\n",
       "Data Talent Pty Ltd -                                                                        11\n",
       "ecareer employment services -                                                                10\n",
       "Interpro - VIC -                                                                              9\n",
       "Randstad - Technologies -                                                                     9\n",
       "HCM Australia -                                                                               8\n",
       "Aurec -                                                                                       8\n",
       "Motion Recruitment -                                                                          8\n",
       "Infopeople -                                                                                  7\n",
       "EY -                                                                                          7\n",
       "Halcyon Knights Pty Ltd -                                                                     7\n",
       "TABCORP -                                                                                     7\n",
       "Pulse Recruitment -                                                                           7\n",
       "Eagna Consulting -                                                                            7\n",
       "Northbridge IT Recruitment -                                                                  7\n",
       "                                                                                             ..\n",
       "Manheim Pty Ltd -                                                                             1\n",
       "Adshel -                                                                                      1\n",
       "SBS Finance &amp; Corporate Strategy -                                                        1\n",
       "Intelematics Australia Pty Ltd -                                                              1\n",
       "Broadspectrum (Australia) Pty Ltd -                                                           1\n",
       "Miller Gold Search &amp; Select -                                                             1\n",
       "The Network -                                                                                 1\n",
       "HESTA Super Fund -                                                                            1\n",
       "Cognizant Technology Solutions Australia Pty Ltd -                                            1\n",
       "The Guild Group -                                                                             1\n",
       "Ampersand International -                                                                     1\n",
       "Byron Thomas Recruitment -                                                                    1\n",
       "MRA Consulting Group -                                                                        1\n",
       "CPA Australia -                                                                               1\n",
       "WPP AUNZ Ltd -                                                                                1\n",
       "Selective Search -                                                                            1\n",
       "Afiniti.com -                                                                                 1\n",
       "Alex Kaar -                                                                                   1\n",
       "Derwent Executive -                                                                           1\n",
       "SMF Recruitment Pty Ltd -                                                                     1\n",
       "Dynamo Recruitment -                                                                          1\n",
       "Herbert Smith Freehills -                                                                     1\n",
       "Massive Interactive -                                                                         1\n",
       "RDA Research -                                                                                1\n",
       "ICON Integration Pty Ltd -                                                                    1\n",
       "Progressive People -                                                                          1\n",
       "Salient Group -                                                                               1\n",
       "Akolade pty Ltd -                                                                             1\n",
       "PM-Partners Group -                                                                           1\n",
       "Esprit (Retail) Pty Ltd -                                                                     1\n",
       "Name: advertiser, dtype: int64"
      ]
     },
     "execution_count": 22,
     "metadata": {},
     "output_type": "execute_result"
    }
   ],
   "source": [
    "data.advertiser.value_counts()"
   ]
  },
  {
   "cell_type": "code",
   "execution_count": 23,
   "metadata": {
    "collapsed": true
   },
   "outputs": [],
   "source": [
    "data.advertiser = data.advertiser.map(lambda x: x.replace(' - ','').replace(' -','').replace('amp;',''))"
   ]
  },
  {
   "cell_type": "code",
   "execution_count": 24,
   "metadata": {},
   "outputs": [
    {
     "data": {
      "text/plain": [
       "Private Advertiser                                                                        24\n",
       "FIRESOFT Consulting                                                                       22\n",
       "Hudson                                                                                    20\n",
       "Peoplebank Australia NSW                                                                  17\n",
       "Infinity Pro                                                                              17\n",
       "Talent â Winner âSeek Large Recruitment Agency of the Yearâ 3 consecutive years!    16\n",
       "Paxus Australia Pty Ltd                                                                   15\n",
       "Robert Walters                                                                            15\n",
       "Perigon Group Pty Limited                                                                 15\n",
       "PBI Search                                                                                13\n",
       "FourQuarters Recruitment                                                                  12\n",
       "GMT People                                                                                11\n",
       "Data Talent Pty Ltd                                                                       11\n",
       "Commonwealth Bank                                                                         11\n",
       "T+O+M Executive                                                                           11\n",
       "Programmed Professionals Pty Ltd                                                          11\n",
       "Ethos BeathChapman                                                                        11\n",
       "ecareer employment services                                                               10\n",
       "RandstadTechnologies                                                                       9\n",
       "InterproVIC                                                                                9\n",
       "HCM Australia                                                                              8\n",
       "Motion Recruitment                                                                         8\n",
       "Aurec                                                                                      8\n",
       "Hays Information Technology                                                                7\n",
       "Pulse Recruitment                                                                          7\n",
       "TABCORP                                                                                    7\n",
       "Infopeople                                                                                 7\n",
       "Correlate Resources                                                                        7\n",
       "Halcyon Knights Pty Ltd                                                                    7\n",
       "Launch Recruitment Pty Ltd                                                                 7\n",
       "                                                                                          ..\n",
       "SEEK Limited                                                                               1\n",
       "IRESS Limited                                                                              1\n",
       "Progressive People                                                                         1\n",
       "Intelematics Australia Pty Ltd                                                             1\n",
       "Ryan Tax Serives Australia PTY Ltd                                                         1\n",
       "EDT Global Pty Ltd                                                                         1\n",
       "newrepublique                                                                              1\n",
       "Neuroscience Research Australia                                                            1\n",
       "CGC Recruitment                                                                            1\n",
       "Charter Bridge Consulting                                                                  1\n",
       "ACTE Pty Ltd trading as DDLS                                                               1\n",
       "Sharp & Carter Sales and Marketing                                                         1\n",
       "Cosmetic Suppliers Pty Ltd                                                                 1\n",
       "Cleanaway Operations Pty Ltd                                                               1\n",
       "Compas Pty Ltd                                                                             1\n",
       "Assetlink                                                                                  1\n",
       "Toyota Insurance                                                                           1\n",
       "lighthouse8                                                                                1\n",
       "Mantra Group                                                                               1\n",
       "RFi Group                                                                                  1\n",
       "Alex Kaar                                                                                  1\n",
       "Morningstar Australasia Pty Ltd                                                            1\n",
       "IT Consulting CompanyITCC                                                                  1\n",
       "AgilityHR Pty Ltd                                                                          1\n",
       "AC3 Pty Limited                                                                            1\n",
       "Manheim Pty Ltd                                                                            1\n",
       "smile.com.au                                                                               1\n",
       "Byron Thomas Recruitment                                                                   1\n",
       "Sigma Resourcing Pty Ltd                                                                   1\n",
       "Zanetti Recruitment & Consulting                                                           1\n",
       "Name: advertiser, dtype: int64"
      ]
     },
     "execution_count": 24,
     "metadata": {},
     "output_type": "execute_result"
    }
   ],
   "source": [
    "data.advertiser.value_counts()"
   ]
  },
  {
   "cell_type": "code",
   "execution_count": 25,
   "metadata": {},
   "outputs": [
    {
     "data": {
      "text/plain": [
       "b'Information &amp; Communication Technology'    730\n",
       "b'Science &amp; Technology'                       64\n",
       "b'Marketing &amp; Communications'                 47\n",
       "b'Accounting'                                     44\n",
       "b'Sales'                                          42\n",
       "b'Banking &amp; Financial Services'               39\n",
       "b'Consulting &amp; Strategy'                      30\n",
       "b'Government &amp; Defence'                       19\n",
       "b'Education &amp; Training'                       15\n",
       "b'Human Resources &amp; Recruitment'              12\n",
       "b'Healthcare &amp; Medical'                       11\n",
       "b'Insurance &amp; Superannuation'                 10\n",
       "b'Administration &amp; Office Support'             9\n",
       "b'Engineering'                                     9\n",
       "b'Call Centre &amp; Customer Service'              5\n",
       "b'Advertising, Arts &amp; Media'                   5\n",
       "b'CEO &amp; General Management'                    4\n",
       "b'Community Services &amp; Development'            3\n",
       "b'Design &amp; Architecture'                       3\n",
       "b'Manufacturing, Transport &amp; Logistics'        2\n",
       "b'Construction'                                    2\n",
       "b'Hospitality &amp; Tourism'                       1\n",
       "b'Retail &amp; Consumer Products'                  1\n",
       "Name: classification, dtype: int64"
      ]
     },
     "execution_count": 25,
     "metadata": {},
     "output_type": "execute_result"
    }
   ],
   "source": [
    "data.classification.value_counts()"
   ]
  },
  {
   "cell_type": "code",
   "execution_count": 26,
   "metadata": {
    "collapsed": true
   },
   "outputs": [],
   "source": [
    "data.classification = data.classification.map(lambda x: x.replace('b\\'','').replace('\\'','').replace('amp;',''))"
   ]
  },
  {
   "cell_type": "code",
   "execution_count": 27,
   "metadata": {},
   "outputs": [
    {
     "data": {
      "text/plain": [
       "Information & Communication Technology    730\n",
       "Science & Technology                       64\n",
       "Marketing & Communications                 47\n",
       "Accounting                                 44\n",
       "Sales                                      42\n",
       "Banking & Financial Services               39\n",
       "Consulting & Strategy                      30\n",
       "Government & Defence                       19\n",
       "Education & Training                       15\n",
       "Human Resources & Recruitment              12\n",
       "Healthcare & Medical                       11\n",
       "Insurance & Superannuation                 10\n",
       "Administration & Office Support             9\n",
       "Engineering                                 9\n",
       "Call Centre & Customer Service              5\n",
       "Advertising, Arts & Media                   5\n",
       "CEO & General Management                    4\n",
       "Design & Architecture                       3\n",
       "Community Services & Development            3\n",
       "Manufacturing, Transport & Logistics        2\n",
       "Construction                                2\n",
       "Hospitality & Tourism                       1\n",
       "Retail & Consumer Products                  1\n",
       "Name: classification, dtype: int64"
      ]
     },
     "execution_count": 27,
     "metadata": {},
     "output_type": "execute_result"
    }
   ],
   "source": [
    "data.classification.value_counts()"
   ]
  },
  {
   "cell_type": "code",
   "execution_count": 28,
   "metadata": {},
   "outputs": [
    {
     "data": {
      "text/plain": [
       "'[\\'\\\\n\\', <p>The NRMA was born to keep people moving, and we have been doing this for nearly 100 years. Our vision is to create indispensable connections with our Members’ mobility through\\r\\n<strong>my car, my journey</strong> and <strong>my destination.</strong><br/>\\n<br/>\\r\\nOur Members enjoy our legendary roadside assistance, car servicing and repairs, Thrifty car and truck rentals, the latest fuel prices and more via the\\r\\n<strong>mynrma app</strong>, discounted travel and accommodation at our Holiday parks, Travelodge and Hotel Kurrajong Canberra<br/>\\n<br/>\\n<strong>Your opportunity</strong><br/>\\n<br/>\\r\\nData is an incredibly important area of growth for the NRMA. This year we have made a significant investment in our people and technology and have already had a fantastic response for the real-time Fuel and Parking features which we launched in the MyNRMA app\\r\\n late last year. But this is just the beginning.<br/>\\n<br/>\\r\\nThe <strong>Data Scientist</strong> will have a stronger focus on expanding and enriching our member-customer data assets &amp; capability, through close collaboration with Technology and Product Management.<br/>\\n<br/>\\r\\nHere is where you come in!<br/>\\n</p>, \\'\\\\n\\', <ul>\\n<li>Support the continuous expansion and enrichment of Data Assets and Capabilities</li><li>Perform predictive analytics and build models for customer engagement, retention, lifetime value</li><li>Grow data and business knowledge of Membership and Group Businesses</li><li>Ensure timely and accurate delivery of reports for designated stakeholder groups</li><li>Hands on analysis and visualization of complex web based data utilizing a variety of tools</li><li>Manage the campaign data design, build, delivery, and measurement of all Member and Customer communications</li></ul>, \\'\\\\n\\', <p><strong>Your experience</strong><br/>\\n<br/>\\r\\nYou will have the customer experience at the heart of what you do and be able to demonstrate:<br/>\\n</p>, \\'\\\\n\\', <ul>\\n<li>Tertiary related qualification in computer science, statistics, marketing, or IT related discipline</li><li>Minimum 7 years’ experience in an analyst role responsible for campaign, reporting, and analysis</li><li>Advanced SQL skills and experience dealing with large and complex data sets</li><li>Ability to adapt and navigate through complex systems</li><li>Strong analytical, business acumen, and problem solving skills</li><li>Possess a positive “can-do” attitude couples with excellent communication skills</li><li>Experience in data warehousing, data modeling, propensity modeling and scoring, statistical inference and validation, segmentation, clustering, regression and response modeling</li></ul>, \\'\\\\n\\', <p><strong>Your benefits</strong><br/>\\n<br/>\\r\\nWe offer a competitive remuneration and our benefits include 50% discount on insurance, free NRMA Premium Care Membership , product and travel discounts, 50% discount on Village Roadshow Theme Parks, plus many more!<br/>\\n<br/>\\r\\nWe moved to a brand new office in Sydney Olympic Park. Here you will enjoy the convenience of free parking or being on the doorstep of the train station, plus the atmosphere of vibrant cafes and restaurants to appease your appetite.<br/>\\n<br/>\\r\\nYour journey with us starts here, so get in the driver’s seat and take control of your career. Apply now.<br/>\\n</p>, \\'\\\\n\\', <div class=\"videoembed\" id=\"FlashContent\"></div>, \\'\\\\n\\']'"
      ]
     },
     "execution_count": 28,
     "metadata": {},
     "output_type": "execute_result"
    }
   ],
   "source": [
    "data.jd[0]"
   ]
  },
  {
   "cell_type": "code",
   "execution_count": 29,
   "metadata": {
    "collapsed": true
   },
   "outputs": [],
   "source": [
    "eliminate=['  ','b\\'',\"\\r\",'\\'','-','amp\\;','\\n','<p>','</p>','<b>','</b>','<li>','</li>','<br>','<br/>','<strong>','</strong>','<ul>','</ul>','<div>','</div>',', ']"
   ]
  },
  {
   "cell_type": "code",
   "execution_count": 30,
   "metadata": {
    "collapsed": true
   },
   "outputs": [],
   "source": [
    "for ch in eliminate:\n",
    "    data.jd = data.jd.map(lambda x: x.replace(ch,''))"
   ]
  },
  {
   "cell_type": "code",
   "execution_count": 31,
   "metadata": {},
   "outputs": [
    {
     "data": {
      "text/plain": [
       "'[\\\\nThe NRMA was born to keep people movingand we have been doing this for nearly 100 years. Our vision is to create indispensable connections with our Members’ mobility throughmy carmy journey and my destination.Our Members enjoy our legendary roadside assistancecar servicing and repairsThrifty car and truck rentalsthe latest fuel prices and more via themynrma appdiscounted travel and accommodation at our Holiday parksTravelodge and Hotel Kurrajong CanberraYour opportunityData is an incredibly important area of growth for the NRMA. This year we have made a significant investment in our people and technology and have already had a fantastic response for the realtime Fuel and Parking features which we launched in the MyNRMA app late last year. But this is just the beginning.The Data Scientist will have a stronger focus on expanding and enriching our membercustomer data assets &amp; capabilitythrough close collaboration with Technology and Product Management.Here is where you come in!\\\\nSupport the continuous expansion and enrichment of Data Assets and CapabilitiesPerform predictive analytics and build models for customer engagementretentionlifetime valueGrow data and business knowledge of Membership and Group BusinessesEnsure timely and accurate delivery of reports for designated stakeholder groupsHands on analysis and visualization of complex web based data utilizing a variety of toolsManage the campaign data designbuilddeliveryand measurement of all Member and Customer communications\\\\nYour experienceYou will have the customer experience at the heart of what you do and be able to demonstrate:\\\\nTertiary related qualification in computer sciencestatisticsmarketingor IT related disciplineMinimum 7 years’ experience in an analyst role responsible for campaignreportingand analysisAdvanced SQL skills and experience dealing with large and complex data setsAbility to adapt and navigate through complex systemsStrong analyticalbusiness acumenand problem solving skillsPossess a positive “cando” attitude couples with excellent communication skillsExperience in data warehousingdata modelingpropensity modeling and scoringstatistical inference and validationsegmentationclusteringregression and response modeling\\\\nYour benefitsWe offer a competitive remuneration and our benefits include 50% discount on insurancefree NRMA Premium Care Membership product and travel discounts50% discount on Village Roadshow Theme Parksplus many more!We moved to a brand new office in Sydney Olympic Park. Here you will enjoy the convenience of free parking or being on the doorstep of the train stationplus the atmosphere of vibrant cafes and restaurants to appease your appetite.Your journey with us starts hereso get in the driver’s seat and take control of your career. Apply now.\\\\n<div class=\"videoembed\" id=\"FlashContent\">\\\\n]'"
      ]
     },
     "execution_count": 31,
     "metadata": {},
     "output_type": "execute_result"
    }
   ],
   "source": [
    "data.jd[0]"
   ]
  },
  {
   "cell_type": "code",
   "execution_count": 32,
   "metadata": {},
   "outputs": [
    {
     "data": {
      "text/plain": [
       "0                                                              680\n",
       "b'End User Company - Great Package, Bonuses + Agile'            12\n",
       "b'Attractive hourly rate'                                        6\n",
       "b'Competitive'                                                   6\n",
       "b'Attractive'                                                    6\n",
       "b'Competitive Salary'                                            5\n",
       "b'Open to negotiation'                                           5\n",
       "b'$55k + Uncapped commissions'                                   4\n",
       "b'Attractive daily rate, perks and career-growth'                4\n",
       "b'Pending Experience'                                            4\n",
       "b'Attractive Hourly Rate'                                        4\n",
       "b'competitive'                                                   4\n",
       "b'Enjoy working  in a flexible environment!'                     4\n",
       "b'$101,827 - $121,332'                                           4\n",
       "b'Attractive Salary, Perks and career-path'                      3\n",
       "b'$NEG\\r\\n\\r\\n-All agent client fees disclosed'                  3\n",
       "b'Excellent Salary Package plus Bonus: $140K package'            3\n",
       "b'$80,000 - $109,999'                                            3\n",
       "b'$130k inc super + lucrative uncapped comms plan'               3\n",
       "b'$65k - $75k p.a. + Package'                                    3\n",
       "b'$80K-120K Packages'                                            3\n",
       "b'Competitive package'                                           2\n",
       "b'$100k - $120k p.a. + Super'                                    2\n",
       "b'Transport Service Grade 6 ($84,237 \\xe2\\x80\\x93 $92,660)'      2\n",
       "b'$150-$160K + Super'                                            2\n",
       "b'$600/Day + Super'                                              2\n",
       "b'$225k'                                                         2\n",
       "b'Attractive Package'                                            2\n",
       "b'Excellent package plus benefits'                               2\n",
       "b'$100000.00 - 120000.00 per annum'                              2\n",
       "                                                              ... \n",
       "b'Excellent salary, bonuses &amp; training'                      1\n",
       "b'$500 - $600 p.d. + Superannuation'                             1\n",
       "b'$175,000 - $190,000 package + incentives'                      1\n",
       "b'$90k - $100k p.a. + Super'                                     1\n",
       "b'1000 to 1100/day'                                              1\n",
       "b'$100,000 - $119,999'                                           1\n",
       "b'$70k - $80k p.a. + Realistic OTE $120K - $150K'                1\n",
       "b'$80,000 - $119,999'                                            1\n",
       "b'$28.58 - $29.74 p.h.'                                          1\n",
       "b'$750.00 p/d 3-6 month contract'                                1\n",
       "b'Competitive salary + staff discount'                           1\n",
       "b'Circa $180K + Super + Comms'                                   1\n",
       "b'$200,000 - $200,000+'                                          1\n",
       "b'$105000.00 - $110k p.a.'                                       1\n",
       "b'$650-$750'                                                     1\n",
       "b'Up to $1k p.d.'                                                1\n",
       "b'$90 - $100+ per hour'                                          1\n",
       "b'$100k - $120k p.a.'                                            1\n",
       "b'$600.00 - $650.00 per day'                                     1\n",
       "b'Competitive salary on offer'                                   1\n",
       "b'circa $750 per day (inc. super)'                               1\n",
       "b'$130000.00 - $150000.00 p.a.'                                  1\n",
       "b'$120000.00 - $140k p.a.'                                       1\n",
       "b'$100000.00 p.a.'                                               1\n",
       "b'$80,000 - $119,999 Dpt Synergetic consulting exp.'             1\n",
       "b'$110000.00 - $120000.00 p.a. + Superannuation '                1\n",
       "b'$80k - $85k p.a. + Super '                                     1\n",
       "b'Varied Contracts'                                              1\n",
       "b'Up to $115K Base + Super + Bonus'                              1\n",
       "b'$900 - 1100 per day'                                           1\n",
       "Name: salary, dtype: int64"
      ]
     },
     "execution_count": 32,
     "metadata": {},
     "output_type": "execute_result"
    }
   ],
   "source": [
    "data.salary.value_counts()"
   ]
  },
  {
   "cell_type": "code",
   "execution_count": 33,
   "metadata": {
    "collapsed": true
   },
   "outputs": [],
   "source": [
    "# First set of cleaning salary\n",
    "# Keeping the numbers and 'K'\n",
    "def clean_salary(salary):\n",
    "    sal=''\n",
    "    count=0\n",
    "    prev_x=''\n",
    "    for x in salary:\n",
    "        if x=='.':\n",
    "            count=3\n",
    "        if count==0:\n",
    "            if x.isdigit():\n",
    "                sal+=x\n",
    "            elif x.lower()=='k':\n",
    "                if prev_x.isdigit():\n",
    "                    sal+='K'\n",
    "        else:\n",
    "            count-=1\n",
    "        prev_x=x\n",
    "    return sal"
   ]
  },
  {
   "cell_type": "code",
   "execution_count": 34,
   "metadata": {
    "collapsed": true
   },
   "outputs": [],
   "source": [
    "data['cleaned_salary'] = [clean_salary(sal) if sal != 0 else 0 for sal in data['salary']]"
   ]
  },
  {
   "cell_type": "code",
   "execution_count": 35,
   "metadata": {},
   "outputs": [
    {
     "data": {
      "text/plain": [
       "0                   680\n",
       "                    151\n",
       "140K                  6\n",
       "120000130000          4\n",
       "55K                   4\n",
       "100K120K              4\n",
       "101827121332          4\n",
       "75K                   3\n",
       "100000                3\n",
       "80K120K               3\n",
       "100K                  3\n",
       "70000                 3\n",
       "85000100000           3\n",
       "70K120K               3\n",
       "150000                3\n",
       "100000120000          3\n",
       "80000109999           3\n",
       "500600                3\n",
       "65K75K                3\n",
       "130K                  3\n",
       "600                   3\n",
       "70000100000           3\n",
       "120K                  3\n",
       "120                   2\n",
       "650700                2\n",
       "7633581764            2\n",
       "8088                  2\n",
       "90K120K               2\n",
       "80K110K               2\n",
       "80K                   2\n",
       "140000                2\n",
       "90K100K               2\n",
       "400500                2\n",
       "225K                  2\n",
       "80K85K                2\n",
       "3544                  2\n",
       "120130K               2\n",
       "700900                2\n",
       "6567                  2\n",
       "7000079999            2\n",
       "550750                2\n",
       "100K140K              2\n",
       "150160K               2\n",
       "480680                2\n",
       "91086102580           2\n",
       "120000                2\n",
       "140K160K              2\n",
       "105K110K              2\n",
       "80000119999           2\n",
       "150180000             2\n",
       "100000149999          2\n",
       "69K2809378K           2\n",
       "700800                2\n",
       "1K                    2\n",
       "8119986620            2\n",
       "81K96K17              2\n",
       "550                   2\n",
       "180K200K              2\n",
       "28093                 2\n",
       "8001K                 2\n",
       "100000119999          2\n",
       "76555880399           2\n",
       "100000130000          2\n",
       "7795090956            2\n",
       "125620                2\n",
       "95000                 2\n",
       "180000200000          2\n",
       "100125K               2\n",
       "6842372809392660      2\n",
       "650                   1\n",
       "17                    1\n",
       "8082                  1\n",
       "150K180K              1\n",
       "170000                1\n",
       "0K                    1\n",
       "6000070000            1\n",
       "250290K               1\n",
       "180K                  1\n",
       "0180                  1\n",
       "200000200000          1\n",
       "800850                1\n",
       "9                     1\n",
       "130000150000          1\n",
       "75K85K                1\n",
       "600750                1\n",
       "6000090000            1\n",
       "7000090000            1\n",
       "120140                1\n",
       "170000210000          1\n",
       "110000120000          1\n",
       "650750                1\n",
       "6090K                 1\n",
       "120000139999          1\n",
       "170K300K              1\n",
       "8001000               1\n",
       "110K                  1\n",
       "105000110K            1\n",
       "9001200               1\n",
       "60K70K                1\n",
       "85K                   1\n",
       "850                   1\n",
       "750850                1\n",
       "350K                  1\n",
       "5560                  1\n",
       "380450                1\n",
       "14                    1\n",
       "100000110000          1\n",
       "0                     1\n",
       "3034                  1\n",
       "8500089999            1\n",
       "600650                1\n",
       "145000                1\n",
       "110K130K              1\n",
       "400                   1\n",
       "160000180000          1\n",
       "90000120000           1\n",
       "50K                   1\n",
       "8590                  1\n",
       "120K140K              1\n",
       "150000170000          1\n",
       "5052                  1\n",
       "750                   1\n",
       "85K95K                1\n",
       "130000150K            1\n",
       "110K12                1\n",
       "110120K               1\n",
       "90100                 1\n",
       "5065                  1\n",
       "125000                1\n",
       "100000140000          1\n",
       "100100                1\n",
       "90110K                1\n",
       "4550                  1\n",
       "1K1200                1\n",
       "900                   1\n",
       "240000300000          1\n",
       "80012                 1\n",
       "8000085000            1\n",
       "929761026290817       1\n",
       "180000                1\n",
       "90000                 1\n",
       "6070K                 1\n",
       "70K80K120K150K        1\n",
       "100110K               1\n",
       "2829                  1\n",
       "75036                 1\n",
       "5059                  1\n",
       "150170K               1\n",
       "7000080000            1\n",
       "140000150000          1\n",
       "700780                1\n",
       "6                     1\n",
       "5055                  1\n",
       "175000190000          1\n",
       "550620                1\n",
       "2527                  1\n",
       "160000                1\n",
       "6500074999            1\n",
       "8501100               1\n",
       "9001100               1\n",
       "550700                1\n",
       "6500075000            1\n",
       "150K                  1\n",
       "90K110K               1\n",
       "450                   1\n",
       "570                   1\n",
       "6074                  1\n",
       "180K200K275K          1\n",
       "160K180K              1\n",
       "120000140K            1\n",
       "650730                1\n",
       "10001100              1\n",
       "120000199999          1\n",
       "300450                1\n",
       "130K150K              1\n",
       "8086                  1\n",
       "115K                  1\n",
       "60                    1\n",
       "7000085000            1\n",
       "100K130K              1\n",
       "110000150000          1\n",
       "6570K130K             1\n",
       "800                   1\n",
       "Name: cleaned_salary, dtype: int64"
      ]
     },
     "execution_count": 35,
     "metadata": {},
     "output_type": "execute_result"
    }
   ],
   "source": [
    "pd.options.display.max_rows= 200\n",
    "data['cleaned_salary'].value_counts()"
   ]
  },
  {
   "cell_type": "code",
   "execution_count": 36,
   "metadata": {
    "collapsed": true
   },
   "outputs": [],
   "source": [
    "data.cleaned_salary = data.cleaned_salary.map(lambda x: 0 if (x=='') or (x=='0K') or (x=='0') else x)"
   ]
  },
  {
   "cell_type": "code",
   "execution_count": 37,
   "metadata": {
    "collapsed": true
   },
   "outputs": [],
   "source": [
    "# Eliminating if more than one K is together and then replacing k with '000' \n",
    "def replace_K(cleaned_salary):\n",
    "    sal=''\n",
    "    prev_x=''\n",
    "    for x in cleaned_salary:\n",
    "        if x.upper()=='K':\n",
    "            if prev_x.upper()=='K':\n",
    "                pass\n",
    "            else:\n",
    "                sal+='000'\n",
    "        else:\n",
    "            sal+=x\n",
    "        prev_x=x\n",
    "    return sal"
   ]
  },
  {
   "cell_type": "code",
   "execution_count": 38,
   "metadata": {
    "collapsed": true
   },
   "outputs": [],
   "source": [
    "data['number_salary'] = [replace_K(sal) if sal != 0 else 0 for sal in data['cleaned_salary']]"
   ]
  },
  {
   "cell_type": "code",
   "execution_count": 39,
   "metadata": {
    "collapsed": true
   },
   "outputs": [],
   "source": [
    "# According to the length and value finding the salary and if its per hour or per week\n",
    "# converting it to per year salary.\n",
    "# Assuming 38 hours a week/5 days a week, 52 weeks a year working.\n",
    "\n",
    "def final_salary_cleaning(salary):\n",
    "    salary=str(salary)\n",
    "    if len(salary)<2:\n",
    "        salary=0\n",
    "    elif len(salary)<3:\n",
    "        if float(salary)<21:\n",
    "            salary=0\n",
    "        else:\n",
    "            salary= float(salary)*38*52\n",
    "    elif len(salary)<5:\n",
    "        if float(salary)<200:\n",
    "            pass\n",
    "        elif float(salary)<1500:\n",
    "            salary=float(salary)*260\n",
    "        else:\n",
    "            hourly_rate=(float(salary[0:2])+float(salary[2:4]))/2\n",
    "            salary=hourly_rate*38*52\n",
    "    elif len(salary)<7:\n",
    "        if float(salary)>250000:\n",
    "            daily_rate=(float(salary[0:3])+float(salary[3:6]))/2\n",
    "            salary=daily_rate*260\n",
    "    elif len(salary)<8:\n",
    "        daily_rate=(float(salary[0:3])+float(salary[3:]))/2\n",
    "        salary=daily_rate*260\n",
    "    elif len(salary)<13:\n",
    "        salary=(float(salary[0:int(len(salary)/2)])+float(salary[int(len(salary)/2):]))/2\n",
    "    # after test writing loops for the missing values\n",
    "    elif salary=='7000080000120000150000':\n",
    "        salary=float(70000+80000+120000+150000)/4\n",
    "    elif salary=='6570000130000':\n",
    "        salary=float(70000+130000)/2\n",
    "    elif salary=='180000180000275000':\n",
    "        salary=float(180000+275000)/2\n",
    "    elif salary=='929761026290817':\n",
    "        salary=float(92976+102629)/2\n",
    "    elif salary=='6842372809392660':\n",
    "        salary=float(68423+72809+92660)/3   \n",
    "    elif salary=='690002809378000':\n",
    "        salary=float(69000+78000)/2\n",
    "    elif salary=='180000200000275000':\n",
    "        salary=float(180000+200000+275000)/3\n",
    "    else:\n",
    "        pass\n",
    "    return salary"
   ]
  },
  {
   "cell_type": "code",
   "execution_count": 40,
   "metadata": {
    "collapsed": true
   },
   "outputs": [],
   "source": [
    "data['final_salary'] = [final_salary_cleaning(sal) if sal != 0 else 0 for sal in data['number_salary']]"
   ]
  },
  {
   "cell_type": "code",
   "execution_count": 41,
   "metadata": {
    "collapsed": true
   },
   "outputs": [],
   "source": [
    "data.final_salary = data.final_salary.map(lambda x: int(x))"
   ]
  },
  {
   "cell_type": "code",
   "execution_count": 42,
   "metadata": {},
   "outputs": [
    {
     "data": {
      "text/plain": [
       "Index(['keyword', 'pagenumber', 'title', 'location', 'region', 'salary',\n",
       "       'worktype', 'advertiser', 'classification', 'jd', 'url',\n",
       "       'cleaned_salary', 'number_salary', 'final_salary'],\n",
       "      dtype='object')"
      ]
     },
     "execution_count": 42,
     "metadata": {},
     "output_type": "execute_result"
    }
   ],
   "source": [
    "data.columns"
   ]
  },
  {
   "cell_type": "code",
   "execution_count": 43,
   "metadata": {
    "collapsed": true
   },
   "outputs": [],
   "source": [
    "data.drop(['salary','cleaned_salary','number_salary'],axis=1,inplace=True)"
   ]
  },
  {
   "cell_type": "code",
   "execution_count": 44,
   "metadata": {
    "collapsed": true
   },
   "outputs": [],
   "source": [
    "salary_plot=data[data.final_salary>0]"
   ]
  },
  {
   "cell_type": "code",
   "execution_count": 45,
   "metadata": {},
   "outputs": [
    {
     "data": {
      "image/png": "[encoded data removed]",
      "text/plain": [
       "<matplotlib.figure.Figure at 0x7f947bd3eb00>"
      ]
     },
     "metadata": {},
     "output_type": "display_data"
    }
   ],
   "source": [
    "sns.boxplot(['final_salary'],data=salary_plot)\n",
    "plt.show()"
   ]
  },
  {
   "cell_type": "code",
   "execution_count": 46,
   "metadata": {},
   "outputs": [
    {
     "data": {
      "text/plain": [
       "(4, 11)"
      ]
     },
     "execution_count": 46,
     "metadata": {},
     "output_type": "execute_result"
    }
   ],
   "source": [
    "salary_plot[salary_plot.final_salary>300000].shape"
   ]
  },
  {
   "cell_type": "code",
   "execution_count": 47,
   "metadata": {
    "collapsed": true
   },
   "outputs": [],
   "source": [
    "valid_salary=data[(data.final_salary>0) & (data.final_salary<300000)]\n",
    "valid_salary.reset_index(range(0,len(valid_salary)),inplace=True)"
   ]
  },
  {
   "cell_type": "code",
   "execution_count": 48,
   "metadata": {},
   "outputs": [
    {
     "data": {
      "image/png": "[encoded data removed]",
      "text/plain": [
       "<matplotlib.figure.Figure at 0x7f947b24c7f0>"
      ]
     },
     "metadata": {},
     "output_type": "display_data"
    }
   ],
   "source": [
    "sns.boxplot(['final_salary'],data=valid_salary)\n",
    "plt.show()"
   ]
  },
  {
   "cell_type": "code",
   "execution_count": 49,
   "metadata": {},
   "outputs": [
    {
     "data": {
      "image/png": "[encoded data removed]",
      "text/plain": [
       "<matplotlib.figure.Figure at 0x7f947b9792b0>"
      ]
     },
     "metadata": {},
     "output_type": "display_data"
    }
   ],
   "source": [
    "#Effects of categorical varibles in the price. \n",
    "sns.barplot(x=\"location\", y=\"final_salary\", data=valid_salary)\n",
    "plt.show()"
   ]
  },
  {
   "cell_type": "code",
   "execution_count": 50,
   "metadata": {},
   "outputs": [
    {
     "data": {
      "image/png": "[encoded data removed]",
      "text/plain": [
       "<matplotlib.figure.Figure at 0x7f947ba31710>"
      ]
     },
     "metadata": {},
     "output_type": "display_data"
    }
   ],
   "source": [
    "sns.barplot(x=\"worktype\", y=\"final_salary\", data=valid_salary)\n",
    "plt.show()"
   ]
  },
  {
   "cell_type": "code",
   "execution_count": 51,
   "metadata": {},
   "outputs": [
    {
     "data": {
      "image/png": "[encoded data removed]",
      "text/plain": [
       "<matplotlib.figure.Figure at 0x7f947b7c7550>"
      ]
     },
     "metadata": {},
     "output_type": "display_data"
    }
   ],
   "source": [
    "plt.figure(figsize=(18,10))\n",
    "sns.barplot(x=\"classification\", y=\"final_salary\", data=valid_salary)\n",
    "plt.xticks(rotation=45)\n",
    "plt.show()"
   ]
  },
  {
   "cell_type": "code",
   "execution_count": 52,
   "metadata": {},
   "outputs": [
    {
     "data": {
      "text/plain": [
       "Index(['index', 'keyword', 'pagenumber', 'title', 'location', 'region',\n",
       "       'worktype', 'advertiser', 'classification', 'jd', 'url',\n",
       "       'final_salary'],\n",
       "      dtype='object')"
      ]
     },
     "execution_count": 52,
     "metadata": {},
     "output_type": "execute_result"
    }
   ],
   "source": [
    "valid_salary.columns"
   ]
  },
  {
   "cell_type": "code",
   "execution_count": 53,
   "metadata": {},
   "outputs": [
    {
     "data": {
      "text/plain": [
       "BusinessIntelligence                                                                17\n",
       "DataAnalyst                                                                         10\n",
       "Data Analyst                                                                         8\n",
       "Data Scientist                                                                       7\n",
       "DataScientist                                                                        7\n",
       "DataArchitect                                                                        4\n",
       "SQL Developer                                                                        4\n",
       "Business Intelligence Report Developer                                               4\n",
       "Account Director | Key Account Manager  Business Information Services                3\n",
       "Data Analyst / Data Scientist                                                        3\n",
       "Candidate Manager | IT Recruitment | Flexible Hours | $140K package                  3\n",
       "Analyst                                                                              3\n",
       "Junior  Mid Level Software Engineer                                                  3\n",
       "Qlikview Developer                                                                   2\n",
       "Business Insights Analyst | Greenfields Role                                         2\n",
       "Jnr Data Scientist | Innovative Co Global Organisation |                             2\n",
       "Contract Business Analyst  Data Migration Project                                    2\n",
       "BI Solutions Architect                                                               2\n",
       "SAP Project Manager ICT                                                              2\n",
       "Data Analyst &amp; Support Officer                                                   2\n",
       "Technical Data Officer                                                               2\n",
       "Data Analytics Consultant                                                            2\n",
       "Senior Account Executive                                                             2\n",
       "Business Intelligence Developer | MSBI  SSIS SSRS SSAS                               2\n",
       "Technical Officer  Cold Storage Systems                                              2\n",
       "Project Scientist Chemical Reference Methods                                         2\n",
       "Senior BI Cognos Consultant  Contract  Immediate  Great Day Rates                    2\n",
       "Data Risk Analyst                                                                    2\n",
       "Senior Business Intelligence Consultant  OBIEE/ODI                                   2\n",
       "Data Scientist  Perm  Sydney                                                         2\n",
       "Head of Analytics  R, Python, financial services                                     2\n",
       "BI Reporting Analyst                                                                 2\n",
       "Principal Data Scientist                                                             2\n",
       "Reporting Analyst                                                                    2\n",
       "Senior Project Officer, Change and Communications  Clerk Grade 9/10  194478          2\n",
       "Risk Analyst / Data Scientist                                                        2\n",
       "Insights Analyst  Credit                                                             2\n",
       "Business Data Analyst                                                                2\n",
       "Risk Analyst: salary $80k + Super + Car                                              2\n",
       "Research Assistant                                                                   2\n",
       "Sr. Data Scientist  Perm Sydney                                                      2\n",
       "Data Scientist  Customer Insights (Retail)                                           2\n",
       "SSIS ETL, SSRS, SSAS Designer / Developer  SSIS Microsoft Business Intelligence      2\n",
       "Data Scientist  Perm role  Sydney                                                    1\n",
       "Microsoft Business Intelligence / Analytics Consultants                              1\n",
       "Development Manager  .NET / Business Intelligence  Sydney CBD                        1\n",
       "Director, Analytics                                                                  1\n",
       "Quantitative Data Analyst                                                            1\n",
       "Head of Financial Planning and Analysis                                              1\n",
       "Commercial Analyst: salary $100k + Super + Car                                       1\n",
       "PHP Developer                                                                        1\n",
       "Senior Data Scientist                                                                1\n",
       "Microstrategy Architect                                                              1\n",
       "BI Business Analyst  36 Month Contract  URGENT                                       1\n",
       "Risk Analyst (Data)                                                                  1\n",
       "Business Development Manager  Business Intelligence &amp; Analytics Software         1\n",
       "Synergetic Management System Developer/Consultant                                    1\n",
       "Infor Support Analyst                                                                1\n",
       "Senior Project Manager                                                               1\n",
       "Key Account Executive                                                                1\n",
       "Analyst | Up to $450 + super per day | Long term contract                            1\n",
       "Business Intelligence Analyst                                                        1\n",
       "Business Development Manager  Business Intelligence / Information Services           1\n",
       "Senior Account Manager | Sydney                                                      1\n",
       "Senior TM1 Consultant / Developer  Contract Role  Immediate  CBD                     1\n",
       "Master Data Specialist                                                               1\n",
       "Data Scientist  CBDbased                                                             1\n",
       "Senior Data Analyst  SAS                                                             1\n",
       "Senior Customer Insights Analyst                                                     1\n",
       "Senior Business Analyst | ASX Listed Company | $120,000                              1\n",
       "Key Account Manager                                                                  1\n",
       "Data Steward  SAP / MDM                                                              1\n",
       "Technical Business Analyst  Teradata                                                 1\n",
       "Business Development Manager  Pharma Intelligence                                    1\n",
       "Data Scientist / Statistical Modeller                                                1\n",
       "Junior Data Analyst  SQL Developer                                                   1\n",
       "Reporting Lead  Melbourne  Permanent  $140,000 Package                               1\n",
       "Business Intelligence Developer                                                      1\n",
       "Reporting System Analyst                                                             1\n",
       "Senior Data Scientist / Machine Learning (Customer Marketing)                        1\n",
       "Manager Marketing &amp; Communications                                               1\n",
       "Data and governance Analyst                                                          1\n",
       "Campaign Specialist                                                                  1\n",
       "Recruitment Consultant  IT&amp;T.                                                    1\n",
       "Financial Analyst  Award Winning Entertainment Business                              1\n",
       "Agile Senior Business Analyst                                                        1\n",
       "Technical Business Analyst                                                           1\n",
       "IT Project Manager  BI/DW Data | Brisbane | Fulltime Role                            1\n",
       "Snr MS Power BI Consultant  upto $125,000                                            1\n",
       "Data Analyst  Immediate Start                                                        1\n",
       "Reporting Manager                                                                    1\n",
       "Graduate Education Analyst                                                           1\n",
       "Account Executive                                                                    1\n",
       "Senior Data Analyst                                                                  1\n",
       "Senior Data Analyst  Tier 1 Bank  Remediation                                        1\n",
       "Enterprise Architect                                                                 1\n",
       "Senior Analyst \\xe2\\x80\\x93 Analytics/Data/Programming                               1\n",
       "Account Manager  Healthcare Portfolio                                                1\n",
       "Business/Data Analyst                                                                1\n",
       "Junior Salesforce Data Analyst                                                       1\n",
       "Senior Commercial Accountant                                                         1\n",
       "Analytics Manager  SAS/SQL  CBDbased                                                 1\n",
       "Solution Designer \\xe2\\x80\\x93 Business Intelligence                                 1\n",
       "SQL Marketing &amp; Campaign Analyst                                                 1\n",
       "Senior BI Business Analyst  12 Month Contract  URGENT                                1\n",
       "Business Development Manager  A/NZ                                                   1\n",
       "Data Analyst X2                                                                      1\n",
       "Ruby on Rails Developer                                                              1\n",
       "Business Analyst  Sydney                                                             1\n",
       "Business Development Manager  SaaS solutions                                         1\n",
       "Enterprise Architect                                                                 1\n",
       "BI, Data and Analytics Manager                                                       1\n",
       "Project Manager                                                                      1\n",
       "Big Data Architect                                                                   1\n",
       "Junior SQL Data Analyst                                                              1\n",
       "I.T Recruitment Consultant                                                           1\n",
       "Pricing/Product Coordinator                                                          1\n",
       "Chief Financial Officer                                                              1\n",
       "Datawarehouse Reports / Senior Front End Business Intelligence Developer             1\n",
       "Customer Data &amp; Reporting Analyst                                                1\n",
       "Test Lead  Education                                                                 1\n",
       "Business Intelligence Developer (Microsoft BI Stack)                                 1\n",
       "SQL Data &amp; Insights Analyst  CONTRACT                                            1\n",
       "BI Reporting Analyst  Big Four Bank                                                  1\n",
       "Technical Architect  Salesforce                                                      1\n",
       "Data Scientist (Marketing Mix &amp; Econometrics)                                    1\n",
       "Reporting Analyst  Business Intelligence                                             1\n",
       "Senior Consultant                                                                    1\n",
       "Data Warehouse Developer  BI/DW                                                      1\n",
       "Business Development Manager, Business Intelligence / Analytics  Banking sector      1\n",
       "Solutions Architect  Applications Integration                                        1\n",
       "Relationship Manager (Account Manager), Global Market Leader, Great Culture, CBD     1\n",
       "Business / Data Analyst                                                              1\n",
       "BI Analyst                                                                           1\n",
       "Market Data Analyst  Tier 1 Bank  Market Rates                                       1\n",
       "Business Intelligence Analyst | Tableau | $95,000 + | Career Progression             1\n",
       "Data Scientist  Python  R  Top Tier Client  Sydney CBD Location                      1\n",
       "Project Manager  ICT Client Systems                                                  1\n",
       "Data Visualisation Analyst  Tableau                                                  1\n",
       "SAP BW Analyst                                                                       1\n",
       "Senior Business Intelligence Analyst                                                 1\n",
       "Senior Data Governance and Reporting Analyst                                         1\n",
       "Business Analyst | Finance                                                           1\n",
       "Senior BI Analyst                                                                    1\n",
       "Senior Presales Solutions Architect (A/NZ)                                           1\n",
       "BDM  Business Intelligence  Future Sales Managers need apply                         1\n",
       "Graduate Account Development Representative                                          1\n",
       "Recruitment Resourcer  IT                                                            1\n",
       "Lead Data Services Developer (SQL, SSIS, SSRS)                                       1\n",
       "Junior Business Intelligence  Inner South Suburbs                                    1\n",
       "Business Intelligence Analyst                                                        1\n",
       "Node.JS Developer                                                                    1\n",
       "Technical Lead/Architect                                                             1\n",
       "SQL Analyst                                                                          1\n",
       "Business Development Manager, Business Intelligence / Risk Management Software       1\n",
       "Performance &amp; Innovation Lead                                                    1\n",
       "Data Analyst  temp                                                                   1\n",
       "Test Manager  Business Intelligence                                                  1\n",
       "Business Development Manager  Data &amp; Analytics  tier 2 financial services        1\n",
       "Systems Analyst | Business Intelligence                                              1\n",
       "Solution Designer \\xe2\\x80\\x93 SSRS                                                  1\n",
       "Senior BI Consultant  Finance Background Essential                                   1\n",
       "Data Reporting Analyst  12 Month Fixed Term  $110,000 Package                        1\n",
       "Stress Testing Analyst  Data/Finance Combined Role                                   1\n",
       "Commercial Manager                                                                   1\n",
       "Senior MS BI / Azure / SQL Consultant                                                1\n",
       "BI and Analytics Manager                                                             1\n",
       "Project Manager | Health                                                             1\n",
       "Salesforce Technical Architect                                                       1\n",
       "Business Analyst Data Analytics / Data Science                                       1\n",
       "Project Manager  Data Centre Transition                                              1\n",
       "Snr DW Developer  Informatica                                                        1\n",
       "Junior Data Scientist (Modelling, Insights &amp; Data Science)                       1\n",
       "Name: title, dtype: int64"
      ]
     },
     "execution_count": 53,
     "metadata": {},
     "output_type": "execute_result"
    }
   ],
   "source": [
    "valid_salary.title.value_counts()"
   ]
  },
  {
   "cell_type": "code",
   "execution_count": 54,
   "metadata": {},
   "outputs": [
    {
     "data": {
      "text/plain": [
       "173"
      ]
     },
     "execution_count": 54,
     "metadata": {},
     "output_type": "execute_result"
    }
   ],
   "source": [
    "valid_salary.title.nunique()"
   ]
  },
  {
   "cell_type": "code",
   "execution_count": 55,
   "metadata": {},
   "outputs": [
    {
     "data": {
      "text/plain": [
       "data                     87\n",
       "analyst                  84\n",
       "business                 58\n",
       "manager                  35\n",
       "scientist                32\n",
       "data scientist           30\n",
       "intelligence             30\n",
       "senior                   30\n",
       "business intelligence    29\n",
       "data analyst             28\n",
       "developer                26\n",
       "bi                       19\n",
       "businessintelligence     17\n",
       "account                  15\n",
       "analytics                14\n",
       "consultant               14\n",
       "project                  14\n",
       "amp                      12\n",
       "reporting                12\n",
       "sql                      12\n",
       "architect                11\n",
       "business analyst         11\n",
       "analyst data             10\n",
       "dataanalyst              10\n",
       "development              10\n",
       "reporting analyst        10\n",
       "contract                  9\n",
       "development manager       9\n",
       "insights                  9\n",
       "officer                   9\n",
       "sydney                    9\n",
       "technical                 9\n",
       "business development      8\n",
       "junior                    8\n",
       "manager business          8\n",
       "dtype: int64"
      ]
     },
     "execution_count": 55,
     "metadata": {},
     "output_type": "execute_result"
    }
   ],
   "source": [
    "total_words = [title for title in valid_salary['title']]\n",
    "\n",
    "vectorizer = CountVectorizer(analyzer = \"word\",ngram_range=(1,2),stop_words = 'english') \n",
    "train_data_features = vectorizer.fit_transform(total_words)\n",
    "\n",
    "title_words = pd.DataFrame(vectorizer.transform(total_words).todense(), columns=vectorizer.get_feature_names())\n",
    "\n",
    "title_words.sum().nlargest(35)\n",
    "# from the list of ngram one and 2 try to find the title which can be used."
   ]
  },
  {
   "cell_type": "code",
   "execution_count": 56,
   "metadata": {
    "collapsed": true
   },
   "outputs": [],
   "source": [
    "# From above take the words for titles and looking for a combination to replace with that title. \n",
    "keyword=['data','business','consultant','manager','developer','analyst','architect','scientist','senior','junior','businessintelligence','intelligence','dataanalyst']"
   ]
  },
  {
   "cell_type": "code",
   "execution_count": 57,
   "metadata": {
    "collapsed": true
   },
   "outputs": [],
   "source": [
    "title_list = []\n",
    "\n",
    "for row in range(0, len(valid_salary)):\n",
    "    word_list=''\n",
    "    title_words = valid_salary.ix[row, 'title'].lower()\n",
    "    for word in title_words.split():\n",
    "        if word in keyword:\n",
    "            word_list+=word+' '\n",
    "        \n",
    "    if len(word_list)==0:\n",
    "        word_list=\"mid level\" # an assumption\n",
    "    if 'dataanalyst' in word_list:\n",
    "        word_list=\"data analyst \"\n",
    "    if 'businessintelligence' in word_list:\n",
    "        word_list=\"business intelligence \"\n",
    "    \n",
    "    title_list.append(word_list)\n"
   ]
  },
  {
   "cell_type": "code",
   "execution_count": 58,
   "metadata": {},
   "outputs": [
    {
     "name": "stderr",
     "output_type": "stream",
     "text": [
      "/home/mahendra/anaconda2/envs/python3/lib/python3.6/site-packages/ipykernel_launcher.py:1: SettingWithCopyWarning: \n",
      "A value is trying to be set on a copy of a slice from a DataFrame.\n",
      "Try using .loc[row_indexer,col_indexer] = value instead\n",
      "\n",
      "See the caveats in the documentation: http://pandas.pydata.org/pandas-docs/stable/indexing.html#indexing-view-versus-copy\n",
      "  \"\"\"Entry point for launching an IPython kernel.\n"
     ]
    }
   ],
   "source": [
    "valid_salary['new_title'] = title_list\n"
   ]
  },
  {
   "cell_type": "code",
   "execution_count": 59,
   "metadata": {
    "collapsed": true
   },
   "outputs": [],
   "source": [
    "# Lets Look at JD and its working. Us the same method as title. Try to figure out the skills and buzz words \n",
    "# that are most used."
   ]
  },
  {
   "cell_type": "code",
   "execution_count": 60,
   "metadata": {
    "collapsed": true
   },
   "outputs": [],
   "source": [
    "# making a list of stop words from base knowledge and from running the vectorization and checking the details\n",
    "stop = stopwords.words('english')\n",
    "stop += ['xa0', 'span', 'xc2', 'xe3']\n",
    "stop.append(\"need\")\n",
    "stop.append(\"in\")\n",
    "stop.append(\"re\")\n",
    "stop.append(\"are\")\n",
    "stop.append(\"for\")\n",
    "stop.append(\"have\")\n",
    "stop.append(\"like\")\n",
    "stop.append(\"be\")\n",
    "stop.append(\"see\")\n",
    "stop.append(\"do\")\n",
    "stop.append(\"trade\")\n",
    "stop.append(\"u2026\")\n",
    "stop.append(\"http\")\n",
    "stop.append(\"mrzlgv\")\n",
    "stop.append(\"bit\")\n",
    "stop.append(\"ly\")\n",
    "stop.append(\"div\")\n",
    "stop.append(\"class\")\n",
    "stop.append(\"forum\")\n",
    "stop.append(\"item\")\n",
    "stop.append(\"shar\")\n",
    "stop.append(\"profile\")\n",
    "stop.append(\"es\")\n",
    "\n",
    "stop += ['people', 'go', 'know', 'think', 'get', 'us', 'really', 'way', 'xe2', 'got', 'want', 'well']\n",
    "\n",
    "stop += ['com', 'textalign', 'style', 'au', 'fontfamily', 'apply', 'button', 'fontsize', 'sansserif', 'please']\n",
    "stop += ['nthe', 'role', 'font', 'face', 'arial', '0pt', 'resume', 'send', 'em', '222222','cv','gov','href','9238']\n",
    "stop += ['strong', 'amp', 'across', 'within', 'new', 'ensure', 'nif', 'nthis', 'nto', 'nyou','would','also','must']\n",
    "stop += ['use', 'nkey', 'able', 'end', 'may', 'nwe', 'day', 'time', 'job', 'take','nas','submit','applicationin']\n",
    "stop += ['12', 'month', 'confidenceplease', 'online', '2017', 'nmy', '_blank','clients','using','needs','one','02','03' ]\n",
    "stop += ['drive', 'center', 'number', 'make', 'wwwsets', 'nlorica', 'staff','related','good','making','nour','plans' ]\n",
    "stop += ['provide', 'key', 'ability','salary','23','reports','record','customer','applicant','track','confidential']\n",
    "stop += ['work', 'team', 'working','sales','level','format','word','years','experience', 'project','management',\n",
    "       'internal','external','seeking','large','develop','career','set']\n",
    "stop+=[col for col in valid_salary.columns]"
   ]
  },
  {
   "cell_type": "code",
   "execution_count": 61,
   "metadata": {},
   "outputs": [
    {
     "name": "stdout",
     "output_type": "stream",
     "text": [
      "business intelligence           152\n",
      "communication skills             58\n",
      "data science                     53\n",
      "market data                      52\n",
      "data scientist                   51\n",
      "data analyst                     50\n",
      "data analytics                   42\n",
      "business analyst                 40\n",
      "data sets                        39\n",
      "machine learning                 38\n",
      "data warehouse                   36\n",
      "big data                         35\n",
      "data analysis                    34\n",
      "business requirements            29\n",
      "financial services               28\n",
      "business development             26\n",
      "advanced analytics               24\n",
      "complex data                     22\n",
      "health care                      21\n",
      "problem solving                  21\n",
      "high performing                  20\n",
      "continuous improvement           20\n",
      "business users                   19\n",
      "analytical skills                19\n",
      "sql server                       18\n",
      "data information                 18\n",
      "successful candidate             17\n",
      "verbal written                   17\n",
      "data migration                   17\n",
      "skills required                  16\n",
      "intelligence data                16\n",
      "opportunity join                 16\n",
      "highly regarded                  16\n",
      "technical skills                 15\n",
      "reporting analyst                15\n",
      "high quality                     14\n",
      "fast paced                       14\n",
      "data business                    14\n",
      "excellent opportunity            14\n",
      "statistical machine learning     14\n",
      "statistical machine              14\n",
      "data driven                      14\n",
      "improve quality                  13\n",
      "responsibilities include         13\n",
      "power bi                         13\n",
      "appropriate link                 13\n",
      "best practice                    13\n",
      "business analysis                13\n",
      "client leading                   13\n",
      "wide range                       13\n",
      "dtype: int64\n"
     ]
    }
   ],
   "source": [
    "total_jd_words = [jd for jd in valid_salary['jd']]\n",
    "\n",
    "vectorizer = CountVectorizer(analyzer = \"word\",ngram_range=(2,3),max_features=50,stop_words = stop) \n",
    "train_data_features = vectorizer.fit_transform(total_jd_words)\n",
    "\n",
    "jd_words = pd.DataFrame(vectorizer.transform(total_jd_words).todense(), columns=vectorizer.get_feature_names())\n",
    "\n",
    "print(jd_words.sum().nlargest(50))\n",
    "\n",
    "# took max_features=800 after checking the number of repeatition of words. In the 800 range word count is only 10\n",
    "# which is a good place to stop"
   ]
  },
  {
   "cell_type": "code",
   "execution_count": 62,
   "metadata": {},
   "outputs": [
    {
     "data": {
      "text/plain": [
       "Index(['index', 'keyword', 'pagenumber', 'title', 'location', 'region',\n",
       "       'worktype', 'advertiser', 'classification', 'jd', 'url', 'final_salary',\n",
       "       'new_title'],\n",
       "      dtype='object')"
      ]
     },
     "execution_count": 62,
     "metadata": {},
     "output_type": "execute_result"
    }
   ],
   "source": [
    "valid_salary.columns"
   ]
  },
  {
   "cell_type": "code",
   "execution_count": 63,
   "metadata": {},
   "outputs": [
    {
     "name": "stderr",
     "output_type": "stream",
     "text": [
      "/home/mahendra/anaconda2/envs/python3/lib/python3.6/site-packages/ipykernel_launcher.py:1: SettingWithCopyWarning: \n",
      "A value is trying to be set on a copy of a slice from a DataFrame\n",
      "\n",
      "See the caveats in the documentation: http://pandas.pydata.org/pandas-docs/stable/indexing.html#indexing-view-versus-copy\n",
      "  \"\"\"Entry point for launching an IPython kernel.\n",
      "/home/mahendra/anaconda2/envs/python3/lib/python3.6/site-packages/ipykernel_launcher.py:2: SettingWithCopyWarning: \n",
      "A value is trying to be set on a copy of a slice from a DataFrame\n",
      "\n",
      "See the caveats in the documentation: http://pandas.pydata.org/pandas-docs/stable/indexing.html#indexing-view-versus-copy\n",
      "  \n",
      "/home/mahendra/anaconda2/envs/python3/lib/python3.6/site-packages/ipykernel_launcher.py:3: SettingWithCopyWarning: \n",
      "A value is trying to be set on a copy of a slice from a DataFrame\n",
      "\n",
      "See the caveats in the documentation: http://pandas.pydata.org/pandas-docs/stable/indexing.html#indexing-view-versus-copy\n",
      "  This is separate from the ipykernel package so we can avoid doing imports until\n",
      "/home/mahendra/anaconda2/envs/python3/lib/python3.6/site-packages/ipykernel_launcher.py:4: SettingWithCopyWarning: \n",
      "A value is trying to be set on a copy of a slice from a DataFrame\n",
      "\n",
      "See the caveats in the documentation: http://pandas.pydata.org/pandas-docs/stable/indexing.html#indexing-view-versus-copy\n",
      "  after removing the cwd from sys.path.\n"
     ]
    }
   ],
   "source": [
    "valid_salary.drop('index',axis=1,inplace=True)\n",
    "valid_salary.drop('title',axis=1,inplace=True)\n",
    "valid_salary.drop('pagenumber',axis=1,inplace=True)\n",
    "valid_salary.drop('url',axis=1,inplace=True)"
   ]
  },
  {
   "cell_type": "code",
   "execution_count": 64,
   "metadata": {},
   "outputs": [
    {
     "name": "stderr",
     "output_type": "stream",
     "text": [
      "/home/mahendra/anaconda2/envs/python3/lib/python3.6/site-packages/pandas/core/frame.py:2834: SettingWithCopyWarning: \n",
      "A value is trying to be set on a copy of a slice from a DataFrame\n",
      "\n",
      "See the caveats in the documentation: http://pandas.pydata.org/pandas-docs/stable/indexing.html#indexing-view-versus-copy\n",
      "  **kwargs)\n"
     ]
    }
   ],
   "source": [
    "valid_salary.rename(columns={'new_title':'title', 'final_salary':'salary'}, inplace=True)"
   ]
  },
  {
   "cell_type": "code",
   "execution_count": 65,
   "metadata": {},
   "outputs": [
    {
     "data": {
      "text/plain": [
       "(266, 59)"
      ]
     },
     "execution_count": 65,
     "metadata": {},
     "output_type": "execute_result"
    }
   ],
   "source": [
    "valid_salary = pd.concat([valid_salary, jd_words], axis=1)\n",
    "valid_salary.shape"
   ]
  },
  {
   "cell_type": "code",
   "execution_count": 66,
   "metadata": {
    "collapsed": true
   },
   "outputs": [],
   "source": [
    "# Now we do have a set of features that we can use.\n"
   ]
  },
  {
   "cell_type": "markdown",
   "metadata": {},
   "source": [
    "### Prediction of salary using the features such as title,region,location,worktype,classification and skills from JD"
   ]
  },
  {
   "cell_type": "markdown",
   "metadata": {},
   "source": [
    "since there are only few valid datapoints that gives salary I am going to predict the salary as class than a exact number. So here I am dealing this as a classifier problem and assuming everyone is interested to know the range of salary than the exact value."
   ]
  },
  {
   "cell_type": "code",
   "execution_count": 67,
   "metadata": {},
   "outputs": [
    {
     "data": {
      "text/plain": [
       "count       266.000000\n",
       "mean     117160.827068\n",
       "std       54360.208277\n",
       "min         120.000000\n",
       "25%       82852.250000\n",
       "50%      110000.000000\n",
       "75%      149550.000000\n",
       "max      273000.000000\n",
       "Name: salary, dtype: float64"
      ]
     },
     "execution_count": 67,
     "metadata": {},
     "output_type": "execute_result"
    }
   ],
   "source": [
    "valid_salary.salary.describe()"
   ]
  },
  {
   "cell_type": "code",
   "execution_count": 68,
   "metadata": {},
   "outputs": [
    {
     "name": "stdout",
     "output_type": "stream",
     "text": [
      "1    142\n",
      "0    124\n",
      "Name: salary_label, dtype: int64\n"
     ]
    }
   ],
   "source": [
    "# giving codes for salary\n",
    "# code : 0 - salary less than 80,000 (juniors)\n",
    "# code : 1 - salary between 80,000 and 125,000(mid level)\n",
    "# code : 2 - salary more than 125,000 (senior)\n",
    "valid_salary['salary_label'] = [1 if salary < 115000 else 0 for salary in valid_salary['salary']]\n",
    "print(valid_salary['salary_label'].value_counts())\n",
    "\n",
    "# changging to 2 class, high and low for easier classification with mid line as 150,000"
   ]
  },
  {
   "cell_type": "code",
   "execution_count": 69,
   "metadata": {
    "collapsed": true
   },
   "outputs": [],
   "source": [
    "# valid_salary.columns"
   ]
  },
  {
   "cell_type": "code",
   "execution_count": 70,
   "metadata": {
    "collapsed": true
   },
   "outputs": [],
   "source": [
    "predictors=[col for col in valid_salary.columns if col not in ['salary','salary_label','jd','advertiser']]\n",
    "y=valid_salary.salary_label\n",
    "X=valid_salary[predictors]"
   ]
  },
  {
   "cell_type": "code",
   "execution_count": 71,
   "metadata": {},
   "outputs": [
    {
     "data": {
      "text/plain": [
       "1    0.533835\n",
       "0    0.466165\n",
       "Name: salary_label, dtype: float64"
      ]
     },
     "execution_count": 71,
     "metadata": {},
     "output_type": "execute_result"
    }
   ],
   "source": [
    "# calculate the baseline accuracy:\n",
    "y.value_counts()/y.count()\n"
   ]
  },
  {
   "cell_type": "code",
   "execution_count": 72,
   "metadata": {
    "collapsed": true
   },
   "outputs": [],
   "source": [
    "X_dummies = pd.get_dummies(X, drop_first = True)"
   ]
  },
  {
   "cell_type": "code",
   "execution_count": 73,
   "metadata": {
    "collapsed": true
   },
   "outputs": [],
   "source": [
    "X=X_dummies.copy()"
   ]
  },
  {
   "cell_type": "code",
   "execution_count": 74,
   "metadata": {
    "collapsed": true
   },
   "outputs": [],
   "source": [
    "ss = StandardScaler()\n",
    "Xs = ss.fit_transform(X)"
   ]
  },
  {
   "cell_type": "code",
   "execution_count": 75,
   "metadata": {
    "collapsed": true
   },
   "outputs": [],
   "source": [
    "X_train, X_test, y_train, y_test = train_test_split(Xs, y, test_size=0.2)"
   ]
  },
  {
   "cell_type": "code",
   "execution_count": 76,
   "metadata": {},
   "outputs": [
    {
     "data": {
      "text/plain": [
       "0.66666666666666663"
      ]
     },
     "execution_count": 76,
     "metadata": {},
     "output_type": "execute_result"
    }
   ],
   "source": [
    "#Import and fit our logistic regression and test it too\n",
    "\n",
    "lr = LogisticRegression()\n",
    "lr.fit(X_train, y_train)\n",
    "lr.score(X_test, y_test)\n"
   ]
  },
  {
   "cell_type": "code",
   "execution_count": 77,
   "metadata": {
    "collapsed": true
   },
   "outputs": [],
   "source": [
    "scores = cross_val_score(lr, X_test, y_test, cv=10)\n",
    "predictions = cross_val_predict(lr, X_test, y_test, cv=10)"
   ]
  },
  {
   "cell_type": "code",
   "execution_count": 78,
   "metadata": {},
   "outputs": [
    {
     "data": {
      "text/plain": [
       "0.46500000000000002"
      ]
     },
     "execution_count": 78,
     "metadata": {},
     "output_type": "execute_result"
    }
   ],
   "source": [
    "scores.mean()\n",
    "# The score seems to be better than baseline and if we had more datapoints to test and train,\n",
    "#I suppose the model would do better"
   ]
  },
  {
   "cell_type": "code",
   "execution_count": 79,
   "metadata": {
    "collapsed": true
   },
   "outputs": [],
   "source": [
    "# lets see how it performs when we have regularization done "
   ]
  },
  {
   "cell_type": "code",
   "execution_count": 80,
   "metadata": {
    "collapsed": true
   },
   "outputs": [],
   "source": [
    "sgd_cls_params = {\n",
    "    'loss':['log'],\n",
    "    'penalty':['l1','l2'],\n",
    "    'alpha':np.logspace(-5,2,50)\n",
    "}\n",
    "\n",
    "sgd_cls = SGDClassifier()\n",
    "sgd_cls_gs = GridSearchCV(sgd_cls, sgd_cls_params, cv=10, verbose=1)"
   ]
  },
  {
   "cell_type": "code",
   "execution_count": 81,
   "metadata": {},
   "outputs": [
    {
     "name": "stdout",
     "output_type": "stream",
     "text": [
      "Fitting 10 folds for each of 100 candidates, totalling 1000 fits\n"
     ]
    },
    {
     "name": "stderr",
     "output_type": "stream",
     "text": [
      "[Parallel(n_jobs=1)]: Done 1000 out of 1000 | elapsed:    3.6s finished\n"
     ]
    },
    {
     "data": {
      "text/plain": [
       "GridSearchCV(cv=10, error_score='raise',\n",
       "       estimator=SGDClassifier(alpha=0.0001, average=False, class_weight=None, epsilon=0.1,\n",
       "       eta0=0.0, fit_intercept=True, l1_ratio=0.15,\n",
       "       learning_rate='optimal', loss='hinge', n_iter=5, n_jobs=1,\n",
       "       penalty='l2', power_t=0.5, random_state=None, shuffle=True,\n",
       "       verbose=0, warm_start=False),\n",
       "       fit_params={}, iid=True, n_jobs=1,\n",
       "       param_grid={'loss': ['log'], 'penalty': ['l1', 'l2'], 'alpha': array([  1.00000e-05,   1.38950e-05,   1.93070e-05,   2.68270e-05,\n",
       "         3.72759e-05,   5.17947e-05,   7.19686e-05,   1.00000e-04,\n",
       "         1.38950e-04,   1.93070e-04,   2.68270e-04,   3.72759e-04,\n",
       "         5.17947e-04,   7.19686e-04,...    1.93070e+01,   2.68270e+01,   3.72759e+01,   5.17947e+01,\n",
       "         7.19686e+01,   1.00000e+02])},\n",
       "       pre_dispatch='2*n_jobs', refit=True, return_train_score=True,\n",
       "       scoring=None, verbose=1)"
      ]
     },
     "execution_count": 81,
     "metadata": {},
     "output_type": "execute_result"
    }
   ],
   "source": [
    "sgd_cls_gs.fit(Xs, y)"
   ]
  },
  {
   "cell_type": "code",
   "execution_count": 82,
   "metadata": {},
   "outputs": [
    {
     "name": "stdout",
     "output_type": "stream",
     "text": [
      "{'alpha': 0.2682695795279722, 'loss': 'log', 'penalty': 'l2'}\n",
      "0.669172932331\n"
     ]
    }
   ],
   "source": [
    "print (sgd_cls_gs.best_params_)\n",
    "print (sgd_cls_gs.best_score_)\n",
    "sgd_cls = sgd_cls_gs.best_estimator_"
   ]
  },
  {
   "cell_type": "code",
   "execution_count": 83,
   "metadata": {
    "collapsed": true
   },
   "outputs": [],
   "source": [
    "# Since \"l2\" is selected from the grid search lets try Ridge and its "
   ]
  },
  {
   "cell_type": "code",
   "execution_count": null,
   "metadata": {
    "collapsed": true
   },
   "outputs": [],
   "source": []
  },
  {
   "cell_type": "code",
   "execution_count": 84,
   "metadata": {
    "collapsed": true
   },
   "outputs": [],
   "source": [
    "from sklearn.linear_model import LogisticRegressionCV\n",
    "from sklearn.metrics import roc_curve, auc"
   ]
  },
  {
   "cell_type": "code",
   "execution_count": 85,
   "metadata": {},
   "outputs": [
    {
     "data": {
      "text/plain": [
       "LogisticRegressionCV(Cs=200, class_weight=None, cv=25, dual=False,\n",
       "           fit_intercept=True, intercept_scaling=1.0, max_iter=100,\n",
       "           multi_class='ovr', n_jobs=1, penalty='l2', random_state=None,\n",
       "           refit=True, scoring=None, solver='lbfgs', tol=0.0001, verbose=0)"
      ]
     },
     "execution_count": 85,
     "metadata": {},
     "output_type": "execute_result"
    }
   ],
   "source": [
    "lr_ridge = LogisticRegressionCV(penalty='l2', Cs=200, cv=25)\n",
    "lr_ridge.fit(X_train, y_train)"
   ]
  },
  {
   "cell_type": "code",
   "execution_count": 86,
   "metadata": {},
   "outputs": [
    {
     "data": {
      "text/plain": [
       "array([ 0.03739937])"
      ]
     },
     "execution_count": 86,
     "metadata": {},
     "output_type": "execute_result"
    }
   ],
   "source": [
    "lr_ridge.C_"
   ]
  },
  {
   "cell_type": "code",
   "execution_count": 87,
   "metadata": {
    "collapsed": true
   },
   "outputs": [],
   "source": [
    "yhat_ridge = lr_ridge.predict(X_test)\n",
    "yhat_ridge_pp = lr_ridge.predict_proba(X_test)"
   ]
  },
  {
   "cell_type": "code",
   "execution_count": 88,
   "metadata": {
    "collapsed": true
   },
   "outputs": [],
   "source": [
    "fpr_ridge, tpr_ridge, _ = roc_curve(y_test, yhat_ridge_pp[:,1])\n",
    "roc_auc_ridge = auc(fpr_ridge, tpr_ridge)\n"
   ]
  },
  {
   "cell_type": "code",
   "execution_count": 89,
   "metadata": {},
   "outputs": [
    {
     "data": {
      "image/png": "[encoded data removed]",
      "text/plain": [
       "<matplotlib.figure.Figure at 0x7f947b74ea58>"
      ]
     },
     "metadata": {},
     "output_type": "display_data"
    }
   ],
   "source": [
    "plt.figure(figsize=[8,8])\n",
    "\n",
    "plt.plot(fpr_ridge, tpr_ridge, label='Ridge (area = %0.2f)' % roc_auc_ridge, \n",
    "         linewidth=4, color='darkred')\n",
    "\n",
    "plt.plot([0, 1], [0, 1], 'k--', linewidth=4)\n",
    "plt.xlim([-0.05, 1.0])\n",
    "plt.ylim([-0.05, 1.05])\n",
    "plt.xlabel('False Positive Rate', fontsize=18)\n",
    "plt.ylabel('True Positive Rate', fontsize=18)\n",
    "plt.title('High and Low Salary class', fontsize=18)\n",
    "plt.legend(loc=\"lower right\")\n",
    "plt.show()"
   ]
  },
  {
   "cell_type": "markdown",
   "metadata": {},
   "source": [
    ".74 ROC area is good enough"
   ]
  },
  {
   "cell_type": "code",
   "execution_count": 90,
   "metadata": {},
   "outputs": [
    {
     "data": {
      "text/html": [
       "<div>\n",
       "<table border=\"1\" class=\"dataframe\">\n",
       "  <thead>\n",
       "    <tr style=\"text-align: right;\">\n",
       "      <th></th>\n",
       "      <th>abscoef</th>\n",
       "      <th>coef</th>\n",
       "      <th>variable</th>\n",
       "    </tr>\n",
       "  </thead>\n",
       "  <tbody>\n",
       "    <tr>\n",
       "      <th>91</th>\n",
       "      <td>0.254123</td>\n",
       "      <td>0.254123</td>\n",
       "      <td>title_business intelligence developer</td>\n",
       "    </tr>\n",
       "    <tr>\n",
       "      <th>66</th>\n",
       "      <td>0.249474</td>\n",
       "      <td>0.249474</td>\n",
       "      <td>worktype_Full Time</td>\n",
       "    </tr>\n",
       "    <tr>\n",
       "      <th>19</th>\n",
       "      <td>0.240591</td>\n",
       "      <td>-0.240591</td>\n",
       "      <td>data driven</td>\n",
       "    </tr>\n",
       "    <tr>\n",
       "      <th>75</th>\n",
       "      <td>0.226251</td>\n",
       "      <td>-0.226251</td>\n",
       "      <td>classification_Information &amp; Communication Tec...</td>\n",
       "    </tr>\n",
       "    <tr>\n",
       "      <th>113</th>\n",
       "      <td>0.205350</td>\n",
       "      <td>-0.205350</td>\n",
       "      <td>title_manager business</td>\n",
       "    </tr>\n",
       "    <tr>\n",
       "      <th>125</th>\n",
       "      <td>0.203084</td>\n",
       "      <td>-0.203084</td>\n",
       "      <td>title_senior consultant</td>\n",
       "    </tr>\n",
       "    <tr>\n",
       "      <th>28</th>\n",
       "      <td>0.202208</td>\n",
       "      <td>-0.202208</td>\n",
       "      <td>financial services</td>\n",
       "    </tr>\n",
       "    <tr>\n",
       "      <th>119</th>\n",
       "      <td>0.196818</td>\n",
       "      <td>0.196818</td>\n",
       "      <td>title_senior analyst</td>\n",
       "    </tr>\n",
       "    <tr>\n",
       "      <th>34</th>\n",
       "      <td>0.196556</td>\n",
       "      <td>0.196556</td>\n",
       "      <td>intelligence data</td>\n",
       "    </tr>\n",
       "    <tr>\n",
       "      <th>1</th>\n",
       "      <td>0.183988</td>\n",
       "      <td>-0.183988</td>\n",
       "      <td>analytical skills</td>\n",
       "    </tr>\n",
       "  </tbody>\n",
       "</table>\n",
       "</div>"
      ],
      "text/plain": [
       "      abscoef      coef                                           variable\n",
       "91   0.254123  0.254123             title_business intelligence developer \n",
       "66   0.249474  0.249474                                 worktype_Full Time\n",
       "19   0.240591 -0.240591                                        data driven\n",
       "75   0.226251 -0.226251  classification_Information & Communication Tec...\n",
       "113  0.205350 -0.205350                            title_manager business \n",
       "125  0.203084 -0.203084                           title_senior consultant \n",
       "28   0.202208 -0.202208                                 financial services\n",
       "119  0.196818  0.196818                              title_senior analyst \n",
       "34   0.196556  0.196556                                  intelligence data\n",
       "1    0.183988 -0.183988                                  analytical skills"
      ]
     },
     "execution_count": 90,
     "metadata": {},
     "output_type": "execute_result"
    }
   ],
   "source": [
    "coefs_vars = pd.DataFrame({\n",
    "        'coef':lr_ridge.coef_[0],\n",
    "        'variable':X.columns,\n",
    "        'abscoef':np.abs(lr_ridge.coef_[0])\n",
    "    })\n",
    "coefs_vars.sort_values('abscoef', ascending=False, inplace=True)\n",
    "coefs_vars[:10]"
   ]
  },
  {
   "cell_type": "markdown",
   "metadata": {},
   "source": [
    "The top 10 performers in predicting the salary are as above from the l2 penalty on Ridge:"
   ]
  },
  {
   "cell_type": "markdown",
   "metadata": {
    "collapsed": true
   },
   "source": [
    "with gradient decent l2 penalty has been selected ROC seems to be good.\n",
    "We will try decision tree classifier to check how it performs and what are its predictions"
   ]
  },
  {
   "cell_type": "code",
   "execution_count": 91,
   "metadata": {
    "collapsed": true
   },
   "outputs": [],
   "source": [
    "dtc_params = {\n",
    "    'max_depth':[None,1,2,3,4,5],\n",
    "    'max_features':[None,'log2','sqrt',2,3,4,5],\n",
    "    'min_samples_split':[2,3,4,5,10,15,20,25,30,40,50]\n",
    "}\n",
    "\n",
    "from sklearn.model_selection import GridSearchCV\n",
    "\n",
    "dtc_gs = GridSearchCV(DecisionTreeClassifier(), dtc_params, cv=5, verbose=1)"
   ]
  },
  {
   "cell_type": "code",
   "execution_count": 92,
   "metadata": {},
   "outputs": [
    {
     "name": "stdout",
     "output_type": "stream",
     "text": [
      "Fitting 5 folds for each of 462 candidates, totalling 2310 fits\n"
     ]
    },
    {
     "name": "stderr",
     "output_type": "stream",
     "text": [
      "[Parallel(n_jobs=1)]: Done 2310 out of 2310 | elapsed:    7.9s finished\n"
     ]
    },
    {
     "data": {
      "text/plain": [
       "GridSearchCV(cv=5, error_score='raise',\n",
       "       estimator=DecisionTreeClassifier(class_weight=None, criterion='gini', max_depth=None,\n",
       "            max_features=None, max_leaf_nodes=None,\n",
       "            min_impurity_split=1e-07, min_samples_leaf=1,\n",
       "            min_samples_split=2, min_weight_fraction_leaf=0.0,\n",
       "            presort=False, random_state=None, splitter='best'),\n",
       "       fit_params={}, iid=True, n_jobs=1,\n",
       "       param_grid={'max_depth': [None, 1, 2, 3, 4, 5], 'max_features': [None, 'log2', 'sqrt', 2, 3, 4, 5], 'min_samples_split': [2, 3, 4, 5, 10, 15, 20, 25, 30, 40, 50]},\n",
       "       pre_dispatch='2*n_jobs', refit=True, return_train_score=True,\n",
       "       scoring=None, verbose=1)"
      ]
     },
     "execution_count": 92,
     "metadata": {},
     "output_type": "execute_result"
    }
   ],
   "source": [
    "dtc_gs.fit(X, y)"
   ]
  },
  {
   "cell_type": "code",
   "execution_count": 93,
   "metadata": {},
   "outputs": [
    {
     "name": "stdout",
     "output_type": "stream",
     "text": [
      "{'max_depth': None, 'max_features': 'log2', 'min_samples_split': 10}\n",
      "0.654135338346\n"
     ]
    }
   ],
   "source": [
    "dtc_best = dtc_gs.best_estimator_\n",
    "print (dtc_gs.best_params_)\n",
    "print (dtc_gs.best_score_)\n",
    "\n",
    "# score is not that great. maybe because we are trying to predict 3 classes"
   ]
  },
  {
   "cell_type": "code",
   "execution_count": 94,
   "metadata": {
    "collapsed": true
   },
   "outputs": [],
   "source": [
    "yhat_dtc = dtc_gs.predict(X_test)\n",
    "yhat_dtc_pp = dtc_gs.predict_proba(X_test)"
   ]
  },
  {
   "cell_type": "code",
   "execution_count": 95,
   "metadata": {
    "collapsed": true
   },
   "outputs": [],
   "source": [
    "fpr_dtc, tpr_dtc, _ = roc_curve(y_test, yhat_dtc_pp[:,1])\n",
    "roc_auc_dtc = auc(fpr_dtc, tpr_dtc)\n"
   ]
  },
  {
   "cell_type": "code",
   "execution_count": 96,
   "metadata": {},
   "outputs": [
    {
     "data": {
      "image/png": "[encoded data removed]",
      "text/plain": [
       "<matplotlib.figure.Figure at 0x7f947bd387f0>"
      ]
     },
     "metadata": {},
     "output_type": "display_data"
    }
   ],
   "source": [
    "plt.figure(figsize=[8,8])\n",
    "\n",
    "plt.plot(fpr_dtc, tpr_dtc, label='DTC (area = %0.2f)' % roc_auc_dtc, \n",
    "         linewidth=4, color='darkred')\n",
    "\n",
    "plt.plot([0, 1], [0, 1], 'k--', linewidth=4)\n",
    "plt.xlim([-0.05, 1.0])\n",
    "plt.ylim([-0.05, 1.05])\n",
    "plt.xlabel('False Positive Rate', fontsize=18)\n",
    "plt.ylabel('True Positive Rate', fontsize=18)\n",
    "plt.title('High and Low Salary class', fontsize=18)\n",
    "plt.legend(loc=\"lower right\")\n",
    "plt.show()"
   ]
  },
  {
   "cell_type": "code",
   "execution_count": 97,
   "metadata": {
    "collapsed": true
   },
   "outputs": [],
   "source": [
    "# ROC curve seems to good. area= .70 seems to be good."
   ]
  },
  {
   "cell_type": "code",
   "execution_count": 98,
   "metadata": {},
   "outputs": [
    {
     "data": {
      "text/html": [
       "<div>\n",
       "<table border=\"1\" class=\"dataframe\">\n",
       "  <thead>\n",
       "    <tr style=\"text-align: right;\">\n",
       "      <th></th>\n",
       "      <th>feature</th>\n",
       "      <th>importance</th>\n",
       "    </tr>\n",
       "  </thead>\n",
       "  <tbody>\n",
       "    <tr>\n",
       "      <th>8</th>\n",
       "      <td>business intelligence</td>\n",
       "      <td>0.068388</td>\n",
       "    </tr>\n",
       "    <tr>\n",
       "      <th>91</th>\n",
       "      <td>title_business intelligence developer</td>\n",
       "      <td>0.054109</td>\n",
       "    </tr>\n",
       "    <tr>\n",
       "      <th>4</th>\n",
       "      <td>big data</td>\n",
       "      <td>0.047185</td>\n",
       "    </tr>\n",
       "    <tr>\n",
       "      <th>10</th>\n",
       "      <td>business users</td>\n",
       "      <td>0.047142</td>\n",
       "    </tr>\n",
       "    <tr>\n",
       "      <th>75</th>\n",
       "      <td>classification_Information &amp; Communication Tec...</td>\n",
       "      <td>0.043298</td>\n",
       "    </tr>\n",
       "    <tr>\n",
       "      <th>84</th>\n",
       "      <td>title_business analyst</td>\n",
       "      <td>0.041884</td>\n",
       "    </tr>\n",
       "    <tr>\n",
       "      <th>7</th>\n",
       "      <td>business development</td>\n",
       "      <td>0.037724</td>\n",
       "    </tr>\n",
       "    <tr>\n",
       "      <th>0</th>\n",
       "      <td>advanced analytics</td>\n",
       "      <td>0.036807</td>\n",
       "    </tr>\n",
       "    <tr>\n",
       "      <th>89</th>\n",
       "      <td>title_business intelligence</td>\n",
       "      <td>0.034442</td>\n",
       "    </tr>\n",
       "    <tr>\n",
       "      <th>13</th>\n",
       "      <td>complex data</td>\n",
       "      <td>0.032499</td>\n",
       "    </tr>\n",
       "    <tr>\n",
       "      <th>25</th>\n",
       "      <td>data warehouse</td>\n",
       "      <td>0.032127</td>\n",
       "    </tr>\n",
       "    <tr>\n",
       "      <th>52</th>\n",
       "      <td>keyword_Data-Scientist</td>\n",
       "      <td>0.029731</td>\n",
       "    </tr>\n",
       "    <tr>\n",
       "      <th>20</th>\n",
       "      <td>data information</td>\n",
       "      <td>0.028700</td>\n",
       "    </tr>\n",
       "    <tr>\n",
       "      <th>40</th>\n",
       "      <td>reporting analyst</td>\n",
       "      <td>0.027533</td>\n",
       "    </tr>\n",
       "    <tr>\n",
       "      <th>17</th>\n",
       "      <td>data analytics</td>\n",
       "      <td>0.025655</td>\n",
       "    </tr>\n",
       "    <tr>\n",
       "      <th>37</th>\n",
       "      <td>opportunity join</td>\n",
       "      <td>0.022011</td>\n",
       "    </tr>\n",
       "    <tr>\n",
       "      <th>54</th>\n",
       "      <td>location_Melbourne</td>\n",
       "      <td>0.021204</td>\n",
       "    </tr>\n",
       "    <tr>\n",
       "      <th>26</th>\n",
       "      <td>excellent opportunity</td>\n",
       "      <td>0.019273</td>\n",
       "    </tr>\n",
       "    <tr>\n",
       "      <th>62</th>\n",
       "      <td>region_ Ryde &amp; Macquarie Park</td>\n",
       "      <td>0.019137</td>\n",
       "    </tr>\n",
       "    <tr>\n",
       "      <th>43</th>\n",
       "      <td>sql server</td>\n",
       "      <td>0.019087</td>\n",
       "    </tr>\n",
       "    <tr>\n",
       "      <th>107</th>\n",
       "      <td>title_junior</td>\n",
       "      <td>0.018529</td>\n",
       "    </tr>\n",
       "    <tr>\n",
       "      <th>6</th>\n",
       "      <td>business analyst</td>\n",
       "      <td>0.018406</td>\n",
       "    </tr>\n",
       "    <tr>\n",
       "      <th>22</th>\n",
       "      <td>data science</td>\n",
       "      <td>0.018305</td>\n",
       "    </tr>\n",
       "    <tr>\n",
       "      <th>65</th>\n",
       "      <td>region_NA</td>\n",
       "      <td>0.017947</td>\n",
       "    </tr>\n",
       "    <tr>\n",
       "      <th>98</th>\n",
       "      <td>title_data analyst</td>\n",
       "      <td>0.016964</td>\n",
       "    </tr>\n",
       "    <tr>\n",
       "      <th>44</th>\n",
       "      <td>statistical machine</td>\n",
       "      <td>0.016700</td>\n",
       "    </tr>\n",
       "    <tr>\n",
       "      <th>46</th>\n",
       "      <td>successful candidate</td>\n",
       "      <td>0.014516</td>\n",
       "    </tr>\n",
       "    <tr>\n",
       "      <th>70</th>\n",
       "      <td>classification_Consulting &amp; Strategy</td>\n",
       "      <td>0.013708</td>\n",
       "    </tr>\n",
       "    <tr>\n",
       "      <th>11</th>\n",
       "      <td>client leading</td>\n",
       "      <td>0.012660</td>\n",
       "    </tr>\n",
       "    <tr>\n",
       "      <th>18</th>\n",
       "      <td>data business</td>\n",
       "      <td>0.012528</td>\n",
       "    </tr>\n",
       "    <tr>\n",
       "      <th>119</th>\n",
       "      <td>title_senior analyst</td>\n",
       "      <td>0.012499</td>\n",
       "    </tr>\n",
       "    <tr>\n",
       "      <th>49</th>\n",
       "      <td>wide range</td>\n",
       "      <td>0.012190</td>\n",
       "    </tr>\n",
       "    <tr>\n",
       "      <th>41</th>\n",
       "      <td>responsibilities include</td>\n",
       "      <td>0.010961</td>\n",
       "    </tr>\n",
       "    <tr>\n",
       "      <th>71</th>\n",
       "      <td>classification_Education &amp; Training</td>\n",
       "      <td>0.009980</td>\n",
       "    </tr>\n",
       "    <tr>\n",
       "      <th>1</th>\n",
       "      <td>analytical skills</td>\n",
       "      <td>0.009709</td>\n",
       "    </tr>\n",
       "    <tr>\n",
       "      <th>77</th>\n",
       "      <td>classification_Marketing &amp; Communications</td>\n",
       "      <td>0.009638</td>\n",
       "    </tr>\n",
       "    <tr>\n",
       "      <th>28</th>\n",
       "      <td>financial services</td>\n",
       "      <td>0.009457</td>\n",
       "    </tr>\n",
       "    <tr>\n",
       "      <th>15</th>\n",
       "      <td>data analysis</td>\n",
       "      <td>0.009450</td>\n",
       "    </tr>\n",
       "    <tr>\n",
       "      <th>59</th>\n",
       "      <td>region_ North West &amp; Hills District</td>\n",
       "      <td>0.009062</td>\n",
       "    </tr>\n",
       "    <tr>\n",
       "      <th>14</th>\n",
       "      <td>continuous improvement</td>\n",
       "      <td>0.009029</td>\n",
       "    </tr>\n",
       "    <tr>\n",
       "      <th>97</th>\n",
       "      <td>title_data</td>\n",
       "      <td>0.008017</td>\n",
       "    </tr>\n",
       "    <tr>\n",
       "      <th>9</th>\n",
       "      <td>business requirements</td>\n",
       "      <td>0.006981</td>\n",
       "    </tr>\n",
       "    <tr>\n",
       "      <th>42</th>\n",
       "      <td>skills required</td>\n",
       "      <td>0.006320</td>\n",
       "    </tr>\n",
       "    <tr>\n",
       "      <th>16</th>\n",
       "      <td>data analyst</td>\n",
       "      <td>0.005609</td>\n",
       "    </tr>\n",
       "    <tr>\n",
       "      <th>81</th>\n",
       "      <td>title_analyst business intelligence</td>\n",
       "      <td>0.004462</td>\n",
       "    </tr>\n",
       "    <tr>\n",
       "      <th>57</th>\n",
       "      <td>region_ CBD, Inner West &amp; Eastern Suburbs</td>\n",
       "      <td>0.003627</td>\n",
       "    </tr>\n",
       "    <tr>\n",
       "      <th>19</th>\n",
       "      <td>data driven</td>\n",
       "      <td>0.003213</td>\n",
       "    </tr>\n",
       "    <tr>\n",
       "      <th>88</th>\n",
       "      <td>title_business data analyst</td>\n",
       "      <td>0.002416</td>\n",
       "    </tr>\n",
       "    <tr>\n",
       "      <th>74</th>\n",
       "      <td>classification_Human Resources &amp; Recruitment</td>\n",
       "      <td>0.002244</td>\n",
       "    </tr>\n",
       "    <tr>\n",
       "      <th>63</th>\n",
       "      <td>region_ South West &amp; M5 Corridor</td>\n",
       "      <td>0.001795</td>\n",
       "    </tr>\n",
       "    <tr>\n",
       "      <th>55</th>\n",
       "      <td>location_Sydney</td>\n",
       "      <td>0.001785</td>\n",
       "    </tr>\n",
       "    <tr>\n",
       "      <th>104</th>\n",
       "      <td>title_data scientist</td>\n",
       "      <td>0.001722</td>\n",
       "    </tr>\n",
       "    <tr>\n",
       "      <th>30</th>\n",
       "      <td>high performing</td>\n",
       "      <td>0.001047</td>\n",
       "    </tr>\n",
       "    <tr>\n",
       "      <th>51</th>\n",
       "      <td>keyword_Data-Architect</td>\n",
       "      <td>0.000589</td>\n",
       "    </tr>\n",
       "  </tbody>\n",
       "</table>\n",
       "</div>"
      ],
      "text/plain": [
       "                                               feature  importance\n",
       "8                                business intelligence    0.068388\n",
       "91              title_business intelligence developer     0.054109\n",
       "4                                             big data    0.047185\n",
       "10                                      business users    0.047142\n",
       "75   classification_Information & Communication Tec...    0.043298\n",
       "84                             title_business analyst     0.041884\n",
       "7                                 business development    0.037724\n",
       "0                                   advanced analytics    0.036807\n",
       "89                        title_business intelligence     0.034442\n",
       "13                                        complex data    0.032499\n",
       "25                                      data warehouse    0.032127\n",
       "52                              keyword_Data-Scientist    0.029731\n",
       "20                                    data information    0.028700\n",
       "40                                   reporting analyst    0.027533\n",
       "17                                      data analytics    0.025655\n",
       "37                                    opportunity join    0.022011\n",
       "54                                  location_Melbourne    0.021204\n",
       "26                               excellent opportunity    0.019273\n",
       "62                       region_ Ryde & Macquarie Park    0.019137\n",
       "43                                          sql server    0.019087\n",
       "107                                      title_junior     0.018529\n",
       "6                                     business analyst    0.018406\n",
       "22                                        data science    0.018305\n",
       "65                                           region_NA    0.017947\n",
       "98                                 title_data analyst     0.016964\n",
       "44                                 statistical machine    0.016700\n",
       "46                                successful candidate    0.014516\n",
       "70                classification_Consulting & Strategy    0.013708\n",
       "11                                      client leading    0.012660\n",
       "18                                       data business    0.012528\n",
       "119                              title_senior analyst     0.012499\n",
       "49                                          wide range    0.012190\n",
       "41                            responsibilities include    0.010961\n",
       "71                 classification_Education & Training    0.009980\n",
       "1                                    analytical skills    0.009709\n",
       "77           classification_Marketing & Communications    0.009638\n",
       "28                                  financial services    0.009457\n",
       "15                                       data analysis    0.009450\n",
       "59                 region_ North West & Hills District    0.009062\n",
       "14                              continuous improvement    0.009029\n",
       "97                                         title_data     0.008017\n",
       "9                                business requirements    0.006981\n",
       "42                                     skills required    0.006320\n",
       "16                                        data analyst    0.005609\n",
       "81                title_analyst business intelligence     0.004462\n",
       "57           region_ CBD, Inner West & Eastern Suburbs    0.003627\n",
       "19                                         data driven    0.003213\n",
       "88                        title_business data analyst     0.002416\n",
       "74        classification_Human Resources & Recruitment    0.002244\n",
       "63                    region_ South West & M5 Corridor    0.001795\n",
       "55                                     location_Sydney    0.001785\n",
       "104                              title_data scientist     0.001722\n",
       "30                                     high performing    0.001047\n",
       "51                              keyword_Data-Architect    0.000589"
      ]
     },
     "execution_count": 98,
     "metadata": {},
     "output_type": "execute_result"
    }
   ],
   "source": [
    "main_feature = pd.DataFrame({\n",
    "        'feature':X.columns,\n",
    "        'importance':dtc_best.feature_importances_\n",
    "    })\n",
    "\n",
    "main_feature.sort_values('importance', ascending=False, inplace=True)\n",
    "main_feature = main_feature[main_feature['importance'] > 0]\n",
    "main_feature"
   ]
  },
  {
   "cell_type": "code",
   "execution_count": 99,
   "metadata": {},
   "outputs": [
    {
     "data": {
      "text/plain": [
       "array(['business intelligence', 'title_business intelligence developer ',\n",
       "       'big data', 'business users',\n",
       "       'classification_Information & Communication Technology',\n",
       "       'title_business analyst ', 'business development',\n",
       "       'advanced analytics', 'title_business intelligence ',\n",
       "       'complex data', 'data warehouse', 'keyword_Data-Scientist',\n",
       "       'data information', 'reporting analyst', 'data analytics',\n",
       "       'opportunity join', 'location_Melbourne', 'excellent opportunity',\n",
       "       'region_ Ryde & Macquarie Park', 'sql server', 'title_junior ',\n",
       "       'business analyst', 'data science', 'region_NA',\n",
       "       'title_data analyst ', 'statistical machine',\n",
       "       'successful candidate', 'classification_Consulting & Strategy',\n",
       "       'client leading', 'data business', 'title_senior analyst ',\n",
       "       'wide range', 'responsibilities include',\n",
       "       'classification_Education & Training', 'analytical skills',\n",
       "       'classification_Marketing & Communications', 'financial services',\n",
       "       'data analysis', 'region_ North West & Hills District',\n",
       "       'continuous improvement', 'title_data ', 'business requirements',\n",
       "       'skills required', 'data analyst',\n",
       "       'title_analyst business intelligence ',\n",
       "       'region_ CBD, Inner West & Eastern Suburbs', 'data driven',\n",
       "       'title_business data analyst ',\n",
       "       'classification_Human Resources & Recruitment',\n",
       "       'region_ South West & M5 Corridor', 'location_Sydney',\n",
       "       'title_data scientist ', 'high performing', 'keyword_Data-Architect'], dtype=object)"
      ]
     },
     "execution_count": 99,
     "metadata": {},
     "output_type": "execute_result"
    }
   ],
   "source": [
    "main_feature.feature.unique()"
   ]
  },
  {
   "cell_type": "markdown",
   "metadata": {},
   "source": [
    "#### Summary \n",
    "Finally we have found out some of the features and buzz words that have an impact on the salary classification.\n",
    "To predict The salary the above features have an impact.\n",
    "some of the main features that are directly affecting the salary are classification/ industry of job, which are \n",
    "Information & Communication Technology, Consulting & Strategy, Education & Training, Marketing & Communications. It also shows location have an impact.\n",
    "If we look through the key words or group of words that have impact on Salary some of them are \"business intelligence\", \"big data\", \"business development\", \"advanced analytics\", \"data analysis\", \"data driven\",  \"high performing\"."
   ]
  },
  {
   "cell_type": "markdown",
   "metadata": {},
   "source": [
    "## Report"
   ]
  },
  {
   "cell_type": "markdown",
   "metadata": {},
   "source": [
    "Here I have tried to find the Factors that affect the jobs. Mainly the skill keywords and other features like title, location, classification etc.\n"
   ]
  },
  {
   "cell_type": "markdown",
   "metadata": {},
   "source": [
    "### Approach:\n",
    "\n",
    "Here I have scrapped the data and details from Seek.com with the keywords Data scientist, data analyst, Business intelligence, Business analyst from 3 different cities which are Melbourne, Sydney and Brisbane. \n",
    "\n",
    "After scrapping the data I have cleaned it according to industry standards and since a lot of records did not had salary data I have selected only records with salary"
   ]
  },
  {
   "cell_type": "markdown",
   "metadata": {},
   "source": [
    "### Methods\n",
    "\n",
    "I have selected the salary prediction as a classification problem and from the known data, created a new feature to tell wether its a high paying salary or low paying and set the limit as 115,000.\n",
    "\n",
    "Here I have used Logistic Regression, then with a grid search selected \"l2\" penalty or Ridge as a feature selection. With Ridge selected Logistic Regression.\n",
    "\n",
    "Used another model Decision Tree as classifier. \n",
    "\n",
    "From these 2 models found the key skills/ Buzz words and the features that affect mostly to the salary."
   ]
  },
  {
   "cell_type": "markdown",
   "metadata": {},
   "source": [
    "### Inference\n",
    "From the 2 models I have implemented and tested some of the main features that are directly affecting the salary are classification/ industry of job, which are \n",
    "Information & Communication Technology, Consulting & Strategy, Education & Training, Marketing & Communications. It also shows location have an impact.\n",
    "If we look through the key words or group of words that have impact on Salary some of them are \"business intelligence\", \"big data\", \"business development\", \"advanced analytics\", \"data analysis\", \"data driven\",  \"high performing\"."
   ]
  },
  {
   "cell_type": "markdown",
   "metadata": {},
   "source": [
    "### Summary\n",
    "\n",
    "Here I have implemented mainly 2 models to make it a classification problem. Here I have tried to predict high and low salary. Implemented mainly 2 models, one is Logistic regression and second a Decision Tree. Both of the classification seems to be a good predictor with approximately 75% area in ROC curve. \n",
    "From both the models I have found out the key skills and features that are related to the salary."
   ]
  },
  {
   "cell_type": "markdown",
   "metadata": {},
   "source": [
    "## Part2"
   ]
  },
  {
   "cell_type": "markdown",
   "metadata": {},
   "source": [
    "Using the job postings you scraped for part 1, or potentially new job postings from a second round of scraping, identify features in the data related to job postings that can distinguish job titles from each other.\n",
    "\n",
    "Here I am using the first scrapped dataset. But here I am using the entire dataset. Trying to predict  \n",
    "what components of a job posting distinguish data scientists/ data analyst from other data jobs?\n",
    "\n",
    "Here I am trying to use just the JD (Job Description) to predict whether its a job posting related to Data scientist or anything else.\n"
   ]
  },
  {
   "cell_type": "code",
   "execution_count": 100,
   "metadata": {
    "collapsed": true
   },
   "outputs": [],
   "source": [
    "# From the web scrapping using beautiful soup\n",
    "# data = pd.read_csv('./Final_Post.csv')"
   ]
  },
  {
   "cell_type": "code",
   "execution_count": 101,
   "metadata": {},
   "outputs": [
    {
     "data": {
      "text/plain": [
       "Index(['keyword', 'pagenumber', 'title', 'location', 'region', 'worktype',\n",
       "       'advertiser', 'classification', 'jd', 'url', 'final_salary'],\n",
       "      dtype='object')"
      ]
     },
     "execution_count": 101,
     "metadata": {},
     "output_type": "execute_result"
    }
   ],
   "source": [
    "data.columns"
   ]
  },
  {
   "cell_type": "code",
   "execution_count": 102,
   "metadata": {
    "collapsed": true
   },
   "outputs": [],
   "source": [
    "data_scientist_df=data[['keyword','jd']]"
   ]
  },
  {
   "cell_type": "code",
   "execution_count": 103,
   "metadata": {},
   "outputs": [
    {
     "data": {
      "text/plain": [
       "Business-Intelligence    536\n",
       "Data-Analyst             273\n",
       "Data-Architect           143\n",
       "Data-Scientist           135\n",
       "Research-Scientist        20\n",
       "Name: keyword, dtype: int64"
      ]
     },
     "execution_count": 103,
     "metadata": {},
     "output_type": "execute_result"
    }
   ],
   "source": [
    "data_scientist_df.keyword.value_counts()"
   ]
  },
  {
   "cell_type": "code",
   "execution_count": 104,
   "metadata": {},
   "outputs": [
    {
     "data": {
      "text/plain": [
       "keyword    object\n",
       "jd         object\n",
       "dtype: object"
      ]
     },
     "execution_count": 104,
     "metadata": {},
     "output_type": "execute_result"
    }
   ],
   "source": [
    "data_scientist_df.dtypes"
   ]
  },
  {
   "cell_type": "code",
   "execution_count": 105,
   "metadata": {},
   "outputs": [
    {
     "name": "stderr",
     "output_type": "stream",
     "text": [
      "/home/mahendra/anaconda2/envs/python3/lib/python3.6/site-packages/pandas/core/generic.py:2773: SettingWithCopyWarning: \n",
      "A value is trying to be set on a copy of a slice from a DataFrame.\n",
      "Try using .loc[row_indexer,col_indexer] = value instead\n",
      "\n",
      "See the caveats in the documentation: http://pandas.pydata.org/pandas-docs/stable/indexing.html#indexing-view-versus-copy\n",
      "  self[name] = value\n"
     ]
    }
   ],
   "source": [
    "data_scientist_df.keyword = data_scientist_df.keyword.map(lambda x: 1 if (x == 'Data-Scientist') | (x=='Data-Analyst') else 0)"
   ]
  },
  {
   "cell_type": "code",
   "execution_count": 106,
   "metadata": {},
   "outputs": [
    {
     "data": {
      "text/plain": [
       "0    699\n",
       "1    408\n",
       "Name: keyword, dtype: int64"
      ]
     },
     "execution_count": 106,
     "metadata": {},
     "output_type": "execute_result"
    }
   ],
   "source": [
    "data_scientist_df.keyword.value_counts()"
   ]
  },
  {
   "cell_type": "code",
   "execution_count": 107,
   "metadata": {},
   "outputs": [
    {
     "data": {
      "text/plain": [
       "keyword     int64\n",
       "jd         object\n",
       "dtype: object"
      ]
     },
     "execution_count": 107,
     "metadata": {},
     "output_type": "execute_result"
    }
   ],
   "source": [
    "data_scientist_df.dtypes"
   ]
  },
  {
   "cell_type": "code",
   "execution_count": 108,
   "metadata": {},
   "outputs": [
    {
     "data": {
      "text/html": [
       "<div>\n",
       "<table border=\"1\" class=\"dataframe\">\n",
       "  <thead>\n",
       "    <tr style=\"text-align: right;\">\n",
       "      <th></th>\n",
       "      <th>keyword</th>\n",
       "      <th>jd</th>\n",
       "    </tr>\n",
       "  </thead>\n",
       "  <tbody>\n",
       "    <tr>\n",
       "      <th>0</th>\n",
       "      <td>1</td>\n",
       "      <td>[\\nThe NRMA was born to keep people movingand ...</td>\n",
       "    </tr>\n",
       "    <tr>\n",
       "      <th>1</th>\n",
       "      <td>1</td>\n",
       "      <td>[DATA SCIENTIST  TOP 100 ASX COMPANY\\n6month c...</td>\n",
       "    </tr>\n",
       "    <tr>\n",
       "      <th>2</th>\n",
       "      <td>1</td>\n",
       "      <td>[\\nAt Caltexwe’re with you all the way. We kee...</td>\n",
       "    </tr>\n",
       "    <tr>\n",
       "      <th>3</th>\n",
       "      <td>1</td>\n",
       "      <td>[A leading IM Professional Services consultanc...</td>\n",
       "    </tr>\n",
       "    <tr>\n",
       "      <th>4</th>\n",
       "      <td>1</td>\n",
       "      <td>[My client is seeking an experienced Data Scie...</td>\n",
       "    </tr>\n",
       "  </tbody>\n",
       "</table>\n",
       "</div>"
      ],
      "text/plain": [
       "   keyword                                                 jd\n",
       "0        1  [\\nThe NRMA was born to keep people movingand ...\n",
       "1        1  [DATA SCIENTIST  TOP 100 ASX COMPANY\\n6month c...\n",
       "2        1  [\\nAt Caltexwe’re with you all the way. We kee...\n",
       "3        1  [A leading IM Professional Services consultanc...\n",
       "4        1  [My client is seeking an experienced Data Scie..."
      ]
     },
     "execution_count": 108,
     "metadata": {},
     "output_type": "execute_result"
    }
   ],
   "source": [
    "data_scientist_df.head()"
   ]
  },
  {
   "cell_type": "code",
   "execution_count": 109,
   "metadata": {
    "collapsed": true
   },
   "outputs": [],
   "source": [
    "# Trying Naive bayes in method to predict whether keyword/title is Data Scientist/ Data Analyst \n",
    "#from the Job Description\n",
    "import pandas as pd, seaborn as sns, numpy as np, matplotlib.pyplot as plt\n",
    "\n",
    "from sklearn.feature_extraction.text import CountVectorizer, TfidfTransformer, TfidfVectorizer \n",
    "from sklearn.feature_extraction.text import TfidfTransformer\n",
    "from sklearn.feature_extraction.text import TfidfVectorizer\n",
    "from sklearn.model_selection import learning_curve\n",
    "from sklearn.model_selection import train_test_split, cross_val_score, ShuffleSplit\n",
    "from sklearn.metrics import classification_report\n",
    "from sklearn.naive_bayes import MultinomialNB, BernoulliNB, GaussianNB\n",
    "from sklearn.linear_model import LogisticRegression\n",
    "\n",
    "from sklearn.pipeline import Pipeline"
   ]
  },
  {
   "cell_type": "code",
   "execution_count": 110,
   "metadata": {},
   "outputs": [
    {
     "data": {
      "text/plain": [
       "<1107x21145 sparse matrix of type '<class 'numpy.int64'>'\n",
       "\twith 209803 stored elements in Compressed Sparse Row format>"
      ]
     },
     "execution_count": 110,
     "metadata": {},
     "output_type": "execute_result"
    }
   ],
   "source": [
    "# Let's use the CountVectorizer to count words for us\n",
    "cvt      =  CountVectorizer(strip_accents='unicode', ngram_range=(1,1))\n",
    "X_all    =  cvt.fit_transform(data_scientist_df['jd'])\n",
    "columns  =  np.array(cvt.get_feature_names())          # ndarray (for indexing below)\n",
    "\n",
    "# note this is a large sparse matrix. \n",
    "#    - rows are data_scientist, columns are words \n",
    "X_all"
   ]
  },
  {
   "cell_type": "code",
   "execution_count": 111,
   "metadata": {},
   "outputs": [
    {
     "name": "stdout",
     "output_type": "stream",
     "text": [
      "(1107, 21145)\n",
      "Requires 23407515 ints to do a .toarray()!\n"
     ]
    }
   ],
   "source": [
    "# Converting X_all toarray() may use too much memory\n",
    "print (X_all.shape)\n",
    "print (\"Requires {} ints to do a .toarray()!\".format(X_all.shape[0] * X_all.shape[1]))"
   ]
  },
  {
   "cell_type": "code",
   "execution_count": 112,
   "metadata": {},
   "outputs": [
    {
     "data": {
      "text/plain": [
       "and           19965\n",
       "to            11546\n",
       "the           10933\n",
       "of             7971\n",
       "in             6818\n",
       "with           5305\n",
       "data           4802\n",
       "for            4507\n",
       "span           4172\n",
       "business       3636\n",
       "experience     3193\n",
       "will           3119\n",
       "you            2811\n",
       "is             2794\n",
       "be             2715\n",
       "on             2417\n",
       "or             2034\n",
       "as             1909\n",
       "an             1888\n",
       "our            1871\n",
       "dtype: int64"
      ]
     },
     "execution_count": 112,
     "metadata": {},
     "output_type": "execute_result"
    }
   ],
   "source": [
    "# So .. we'll use np.sum() to convert it directly from the sparse matrix!\n",
    "# This is enormously more memory-efficient ...\n",
    "#   It only requires one int per column since summing across columns is the total word count.\n",
    "\n",
    "def get_freq_words(sparse_counts, columns):\n",
    "    # X_all is a sparse matrix, so sum() returns a 'matrix' datatype ...\n",
    "    #   which we then convert into a 1-D ndarray for sorting\n",
    "    word_counts = np.asarray(X_all.sum(axis=0)).reshape(-1)\n",
    "\n",
    "    # argsort() returns smallest first, so we reverse the result\n",
    "    largest_count_indices = word_counts.argsort()[::-1]\n",
    "\n",
    "    # pretty-print the results! Remember to always ask whether they make sense ...\n",
    "    freq_words = pd.Series(word_counts[largest_count_indices], \n",
    "                           index=columns[largest_count_indices])\n",
    "\n",
    "    return freq_words\n",
    "\n",
    "\n",
    "freq_words = get_freq_words(X_all, columns)\n",
    "freq_words[:20]\n",
    "\n",
    "\n",
    "# From the words its clear these are the common words in english and we need to avoid those. Implementing the\n",
    "# stop word \"english\""
   ]
  },
  {
   "cell_type": "code",
   "execution_count": 113,
   "metadata": {},
   "outputs": [
    {
     "name": "stdout",
     "output_type": "stream",
     "text": [
      "data          4802\n",
      "span          4172\n",
      "business      3636\n",
      "experience    3193\n",
      "style         1787\n",
      "team          1718\n",
      "role          1654\n",
      "skills        1650\n",
      "xa0           1638\n",
      "work          1409\n",
      "dtype: int64\n"
     ]
    }
   ],
   "source": [
    "cvt      =  CountVectorizer(strip_accents='unicode', stop_words=\"english\", ngram_range=(1,1))\n",
    "X_all    =  cvt.fit_transform(data_scientist_df['jd'])\n",
    "columns  =  np.array(cvt.get_feature_names())\n",
    "\n",
    "freq_words = get_freq_words(X_all, columns)\n",
    "\n",
    "print(freq_words[:10])\n",
    "\n",
    "# These are the words with ngram 1. So basically the buzz words"
   ]
  },
  {
   "cell_type": "code",
   "execution_count": 114,
   "metadata": {},
   "outputs": [
    {
     "data": {
      "text/plain": [
       "span span                      1883\n",
       "span style                      946\n",
       "xa0 xa0                         807\n",
       "span span span                  730\n",
       "business intelligence           696\n",
       "xa0 xa0 xa0                     511\n",
       "style textalign                 500\n",
       "fontfamily arial                447\n",
       "xa0 xa0 xa0 xa0                 399\n",
       "span span span span             369\n",
       "sansserif fontsize              357\n",
       "style fontfamily                337\n",
       "span style fontfamily           333\n",
       "style fontfamily arial          299\n",
       "com au                          298\n",
       "experience working              296\n",
       "fontsize 10                     296\n",
       "span style fontfamily arial     295\n",
       "communication skills            295\n",
       "textalign justify               294\n",
       "dtype: int64"
      ]
     },
     "execution_count": 114,
     "metadata": {},
     "output_type": "execute_result"
    }
   ],
   "source": [
    "# What if we change ngram to 2 to 4. what would be the common set of words.\n",
    "cvt = CountVectorizer(stop_words=\"english\", ngram_range=(2,4))\n",
    "X_all = cvt.fit_transform(data_scientist_df['jd'])\n",
    "columns  =  np.array(cvt.get_feature_names())\n",
    "\n",
    "freq_words = get_freq_words(X_all, columns)\n",
    "freq_words[0:20]\n",
    "# This shows there are a lot of words thats unwanted for us. Lets add those to the stop words and try those."
   ]
  },
  {
   "cell_type": "code",
   "execution_count": 115,
   "metadata": {
    "collapsed": true
   },
   "outputs": [],
   "source": [
    "# making a list of stop words from base knowledge and from running the vectorization and checking the details\n",
    "stop = stopwords.words('english')\n",
    "stop += ['xa0', 'span', 'xc2', 'xe3']\n",
    "stop.append(\"need\")\n",
    "stop.append(\"in\")\n",
    "stop.append(\"re\")\n",
    "stop.append(\"are\")\n",
    "stop.append(\"for\")\n",
    "stop.append(\"have\")\n",
    "stop.append(\"like\")\n",
    "stop.append(\"be\")\n",
    "stop.append(\"see\")\n",
    "stop.append(\"do\")\n",
    "stop.append(\"trade\")\n",
    "stop.append(\"u2026\")\n",
    "stop.append(\"http\")\n",
    "stop.append(\"mrzlgv\")\n",
    "stop.append(\"bit\")\n",
    "stop.append(\"ly\")\n",
    "stop.append(\"div\")\n",
    "stop.append(\"class\")\n",
    "stop.append(\"forum\")\n",
    "stop.append(\"item\")\n",
    "stop.append(\"shar\")\n",
    "stop.append(\"profile\")\n",
    "stop.append(\"es\")\n",
    "\n",
    "stop += ['people', 'go', 'know', 'think', 'get', 'us', 'really', 'way', 'xe2', 'got', 'want', 'well']\n",
    "\n",
    "stop += ['com', 'textalign', 'style', 'au', 'fontfamily', 'apply', 'button', 'fontsize', 'sansserif', 'please']\n",
    "stop += ['nthe', 'role', 'font', 'face', 'arial', '0pt', 'resume', 'send', 'em', '222222','cv','gov','href','9238']\n",
    "stop += ['strong', 'amp', 'across', 'within', 'new', 'ensure', 'nif', 'nthis', 'nto', 'nyou','would','also','must']\n",
    "stop += ['use', 'nkey', 'able', 'end', 'may', 'nwe', 'day', 'time', 'job', 'take','nas','submit','applicationin']\n",
    "stop += ['12', 'month', 'confidenceplease', 'online', '2017', 'nmy', '_blank','clients','using','needs','one','02','03' ]\n",
    "stop += ['drive', 'center', 'number', 'make', 'wwwsets', 'nlorica', 'staff','related','good','making','nour','plans' ]\n",
    "stop += ['provide', 'key', 'ability','salary','23','reports','record','customer','applicant','track','confidential']\n",
    "stop += ['work', 'team', 'working','sales','level','format','word','years','experience', 'project','management',\n",
    "       'internal','external','seeking','large','develop','career','set']\n",
    "stop+=[col for col in valid_salary.columns]"
   ]
  },
  {
   "cell_type": "code",
   "execution_count": 116,
   "metadata": {},
   "outputs": [
    {
     "data": {
      "text/plain": [
       "data                     4802\n",
       "business                 3636\n",
       "skills                   1650\n",
       "development              1171\n",
       "solutions                1009\n",
       "reporting                 891\n",
       "analytics                 885\n",
       "technical                 833\n",
       "support                   822\n",
       "intelligence              801\n",
       "information               784\n",
       "opportunity               771\n",
       "analysis                  746\n",
       "services                  740\n",
       "business intelligence     697\n",
       "requirements              675\n",
       "design                    664\n",
       "bi                        638\n",
       "knowledge                 610\n",
       "environment               594\n",
       "dtype: int64"
      ]
     },
     "execution_count": 116,
     "metadata": {},
     "output_type": "execute_result"
    }
   ],
   "source": [
    "\n",
    "cvt = CountVectorizer(stop_words=stop, lowercase=True, strip_accents=\"unicode\", ngram_range=(1,2))\n",
    "X_all = cvt.fit_transform(data_scientist_df['jd'])\n",
    "columns  =  np.array(cvt.get_feature_names())\n",
    "\n",
    "freq_words = get_freq_words(X_all, columns)\n",
    "freq_words[:20]"
   ]
  },
  {
   "cell_type": "code",
   "execution_count": 117,
   "metadata": {},
   "outputs": [
    {
     "data": {
      "text/plain": [
       "(885, 515)"
      ]
     },
     "execution_count": 117,
     "metadata": {},
     "output_type": "execute_result"
    }
   ],
   "source": [
    "# Find our training size\n",
    "training_size = int(data_scientist_df.shape[0] * .8)\n",
    "\n",
    "# Randomly sample our training data\n",
    "data_scientist_train = data_scientist_df.sample(n=training_size, replace=True)\n",
    "\n",
    "# Capture the rest of the dataset that's not \"training\" using an inverse mask (rows NOT IN training dataframe)\n",
    "mask = data_scientist_df.index.isin(data_scientist_train.index)\n",
    "data_scientist_test = data_scientist_df[~mask]\n",
    "\n",
    "# Should be (2762, 1963) = training / testing = 70/30\n",
    "data_scientist_train.shape[0], data_scientist_test.shape[0]"
   ]
  },
  {
   "cell_type": "code",
   "execution_count": 118,
   "metadata": {},
   "outputs": [
    {
     "data": {
      "text/plain": [
       "0.40225988700564974"
      ]
     },
     "execution_count": 118,
     "metadata": {},
     "output_type": "execute_result"
    }
   ],
   "source": [
    "# Baseline\n",
    "data_scientist_train.keyword.sum() * 1.0 / data_scientist_train.keyword.count() * 1.0"
   ]
  },
  {
   "cell_type": "code",
   "execution_count": 119,
   "metadata": {},
   "outputs": [
    {
     "data": {
      "text/plain": [
       "0.79805825242718442"
      ]
     },
     "execution_count": 119,
     "metadata": {},
     "output_type": "execute_result"
    }
   ],
   "source": [
    "# MultinomialNB\n",
    "pipeline = Pipeline([\n",
    "    ('vect', cvt),\n",
    "#     ('tfidf', TfidfTransformer()),\n",
    "    ('cls', MultinomialNB())\n",
    "]) \n",
    "pipeline.fit(data_scientist_train['jd'], data_scientist_train['keyword'])\n",
    "predicted = pipeline.predict(data_scientist_test['jd'])\n",
    "pipeline.score(data_scientist_test['jd'], data_scientist_test['keyword'])"
   ]
  },
  {
   "cell_type": "code",
   "execution_count": 120,
   "metadata": {},
   "outputs": [
    {
     "name": "stdout",
     "output_type": "stream",
     "text": [
      "                        precision    recall  f1-score   support\n",
      "\n",
      "Data Scientist/Analyst       0.82      0.88      0.85       335\n",
      "                Others       0.75      0.64      0.69       180\n",
      "\n",
      "           avg / total       0.79      0.80      0.79       515\n",
      "\n"
     ]
    }
   ],
   "source": [
    "predicted = pipeline.predict(data_scientist_test[\"jd\"])\n",
    "print (classification_report(data_scientist_test[\"keyword\"], predicted, target_names=[\"Data Scientist/Analyst\", \"Others\"]))"
   ]
  },
  {
   "cell_type": "markdown",
   "metadata": {},
   "source": [
    "This seems to be a good score. Even though its not a great predictor alost 80 % is good."
   ]
  },
  {
   "cell_type": "code",
   "execution_count": 121,
   "metadata": {},
   "outputs": [
    {
     "data": {
      "text/plain": [
       "0.9439927732610659"
      ]
     },
     "execution_count": 121,
     "metadata": {},
     "output_type": "execute_result"
    }
   ],
   "source": [
    "# Alternative -- train on all data for later data mining of seek.com scrapping\n",
    "# MultinomialNB\n",
    "pipeline = Pipeline([\n",
    "    ('vect', cvt),\n",
    "#     ('tfidf', TfidfTransformer()),\n",
    "    ('cls', MultinomialNB())\n",
    "]) \n",
    "pipeline.fit(data_scientist_df['jd'], data_scientist_df['keyword'])\n",
    "predicted = pipeline.predict(data_scientist_df['jd'])\n",
    "pipeline.score(data_scientist_df['jd'], data_scientist_df['keyword'])"
   ]
  },
  {
   "cell_type": "code",
   "execution_count": 122,
   "metadata": {},
   "outputs": [
    {
     "name": "stderr",
     "output_type": "stream",
     "text": [
      "/home/mahendra/anaconda2/envs/python3/lib/python3.6/site-packages/ipykernel_launcher.py:2: SettingWithCopyWarning: \n",
      "A value is trying to be set on a copy of a slice from a DataFrame.\n",
      "Try using .loc[row_indexer,col_indexer] = value instead\n",
      "\n",
      "See the caveats in the documentation: http://pandas.pydata.org/pandas-docs/stable/indexing.html#indexing-view-versus-copy\n",
      "  \n"
     ]
    }
   ],
   "source": [
    "#  Add predicted probabilities back to original dataframe\n",
    "data_scientist_df['MultinomialNB_Predicted'] = predicted"
   ]
  },
  {
   "cell_type": "code",
   "execution_count": 123,
   "metadata": {},
   "outputs": [
    {
     "name": "stdout",
     "output_type": "stream",
     "text": [
      "                        precision    recall  f1-score   support\n",
      "\n",
      "Data Scientist/Analyst       0.97      0.94      0.95       699\n",
      "                Others       0.90      0.96      0.93       408\n",
      "\n",
      "           avg / total       0.95      0.94      0.94      1107\n",
      "\n"
     ]
    }
   ],
   "source": [
    "predicted = pipeline.predict(data_scientist_df[\"jd\"])\n",
    "print (classification_report(data_scientist_df[\"keyword\"], predicted, target_names=[\"Data Scientist/Analyst\", \"Others\"]))"
   ]
  },
  {
   "cell_type": "code",
   "execution_count": 124,
   "metadata": {
    "collapsed": true
   },
   "outputs": [],
   "source": [
    "from sklearn.metrics import roc_curve\n",
    "\n",
    "def plot_roc(y, probs, threshmarkers=None):\n",
    "    fpr, tpr, thresh = roc_curve(y, probs)\n",
    "\n",
    "    plt.figure(figsize=(8,8))\n",
    "    plt.plot(fpr, tpr, lw=2)\n",
    "   \n",
    "    plt.xlabel(\"False Positive Rate\\n(1 - Specificity)\")\n",
    "    plt.ylabel(\"True Positive Rate\\n(Sensitivity)\")\n",
    "    plt.xlim([-0.025, 1.025])\n",
    "    plt.ylim([-0.025, 1.025])\n",
    "    plt.xticks(np.linspace(0, 1, 21), rotation=45)\n",
    "    plt.yticks(np.linspace(0, 1, 21))\n",
    "    plt.show()"
   ]
  },
  {
   "cell_type": "code",
   "execution_count": 125,
   "metadata": {},
   "outputs": [
    {
     "data": {
      "image/png": "[encoded data removed]",
      "text/plain": [
       "<matplotlib.figure.Figure at 0x7f9474e6f0f0>"
      ]
     },
     "metadata": {},
     "output_type": "display_data"
    }
   ],
   "source": [
    "predicted_proba = pipeline.predict_proba(data_scientist_test['jd'])\n",
    "plot_roc(data_scientist_test['keyword'], predicted_proba[:, 1])"
   ]
  },
  {
   "cell_type": "markdown",
   "metadata": {},
   "source": [
    "If you train and test with the whole data it seems to be good. and can be used for a further webscrapping and predicting the title."
   ]
  },
  {
   "cell_type": "code",
   "execution_count": 126,
   "metadata": {},
   "outputs": [
    {
     "data": {
      "text/plain": [
       "0.80000000000000004"
      ]
     },
     "execution_count": 126,
     "metadata": {},
     "output_type": "execute_result"
    }
   ],
   "source": [
    "# LogisticRegression\n",
    "pipeline = Pipeline([\n",
    "    ('vect', cvt),\n",
    "    ('tfidf', TfidfTransformer()),\n",
    "    ('cls', LogisticRegression())\n",
    "]) \n",
    "pipeline.fit(data_scientist_train['jd'], data_scientist_train['keyword'])\n",
    "predicted = pipeline.predict(data_scientist_test['jd'])\n",
    "pipeline.score(data_scientist_test['jd'], data_scientist_test['keyword'])"
   ]
  },
  {
   "cell_type": "code",
   "execution_count": 127,
   "metadata": {},
   "outputs": [
    {
     "name": "stdout",
     "output_type": "stream",
     "text": [
      "                        precision    recall  f1-score   support\n",
      "\n",
      "Data Scientist/Analyst       0.80      0.92      0.86       335\n",
      "                Others       0.80      0.57      0.67       180\n",
      "\n",
      "           avg / total       0.80      0.80      0.79       515\n",
      "\n"
     ]
    }
   ],
   "source": [
    "predicted = pipeline.predict(data_scientist_test[\"jd\"])\n",
    "print (classification_report(data_scientist_test[\"keyword\"], predicted, target_names=[\"Data Scientist/Analyst\", \"Others\"]))"
   ]
  },
  {
   "cell_type": "markdown",
   "metadata": {},
   "source": [
    "Again this have almost 80% precision. "
   ]
  },
  {
   "cell_type": "code",
   "execution_count": 128,
   "metadata": {},
   "outputs": [
    {
     "data": {
      "text/plain": [
       "0.91418247515808493"
      ]
     },
     "execution_count": 128,
     "metadata": {},
     "output_type": "execute_result"
    }
   ],
   "source": [
    "# try with all data\n",
    "# LogisticRegression\n",
    "pipeline = Pipeline([\n",
    "    ('vect', cvt),\n",
    "    ('tfidf', TfidfTransformer()),\n",
    "    ('cls', LogisticRegression())\n",
    "]) \n",
    "pipeline.fit(data_scientist_df['jd'], data_scientist_df['keyword'])\n",
    "predicted = pipeline.predict(data_scientist_df['jd'])\n",
    "pipeline.score(data_scientist_df['jd'], data_scientist_df['keyword'])"
   ]
  },
  {
   "cell_type": "code",
   "execution_count": 129,
   "metadata": {},
   "outputs": [
    {
     "name": "stderr",
     "output_type": "stream",
     "text": [
      "/home/mahendra/anaconda2/envs/python3/lib/python3.6/site-packages/ipykernel_launcher.py:2: SettingWithCopyWarning: \n",
      "A value is trying to be set on a copy of a slice from a DataFrame.\n",
      "Try using .loc[row_indexer,col_indexer] = value instead\n",
      "\n",
      "See the caveats in the documentation: http://pandas.pydata.org/pandas-docs/stable/indexing.html#indexing-view-versus-copy\n",
      "  \n"
     ]
    }
   ],
   "source": [
    "#  Add predicted probabilities back to original dataframe\n",
    "data_scientist_df['Logistic_Predicted'] = predicted"
   ]
  },
  {
   "cell_type": "code",
   "execution_count": 130,
   "metadata": {},
   "outputs": [
    {
     "name": "stdout",
     "output_type": "stream",
     "text": [
      "                        precision    recall  f1-score   support\n",
      "\n",
      "Data Scientist/Analyst       0.91      0.97      0.94       335\n",
      "                Others       0.94      0.81      0.87       180\n",
      "\n",
      "           avg / total       0.92      0.92      0.91       515\n",
      "\n"
     ]
    }
   ],
   "source": [
    "predicted = pipeline.predict(data_scientist_test[\"jd\"])\n",
    "print (classification_report(data_scientist_test[\"keyword\"], predicted, target_names=[\"Data Scientist/Analyst\", \"Others\"]))"
   ]
  },
  {
   "cell_type": "markdown",
   "metadata": {},
   "source": [
    "With the full dataset the prediction seems to be good for the logistic regression."
   ]
  },
  {
   "cell_type": "code",
   "execution_count": 132,
   "metadata": {},
   "outputs": [
    {
     "data": {
      "image/png": "[encoded data removed]",
      "text/plain": [
       "<matplotlib.figure.Figure at 0x7f947b9159b0>"
      ]
     },
     "metadata": {},
     "output_type": "display_data"
    }
   ],
   "source": [
    "predicted_proba = pipeline.predict_proba(data_scientist_test['jd'])\n",
    "plot_roc(data_scientist_test['keyword'], predicted_proba[:, 1])"
   ]
  },
  {
   "cell_type": "markdown",
   "metadata": {},
   "source": [
    "ROC curve seems to be very good. and from this its understood that using Naive bayes method and Logistic regression is a very good form of predicting the Title."
   ]
  },
  {
   "cell_type": "markdown",
   "metadata": {
    "collapsed": true
   },
   "source": [
    "### Summary\n",
    "\n",
    "Here I have tried to predict whether a job title is Data scientist/Analyst from the job description. Implemented 2 models Naive Bayes Classifier and Logistic Regression. Tried implementing the model with 20% test data and with full dataset as well. For both models both ROC and classification report seems to be great. Both the models seems to be good which can also be used for predicting the title with the JD's for further scrapping or for internal use."
   ]
  },
  {
   "cell_type": "code",
   "execution_count": null,
   "metadata": {
    "collapsed": true
   },
   "outputs": [],
   "source": []
  }
 ],
 "metadata": {
  "kernelspec": {
   "display_name": "Python 3",
   "language": "python",
   "name": "python3"
  },
  "language_info": {
   "codemirror_mode": {
    "name": "ipython",
    "version": 3
   },
   "file_extension": ".py",
   "mimetype": "text/x-python",
   "name": "python",
   "nbconvert_exporter": "python",
   "pygments_lexer": "ipython3",
   "version": "3.6.0"
  }
 },
 "nbformat": 4,
 "nbformat_minor": 2
}
